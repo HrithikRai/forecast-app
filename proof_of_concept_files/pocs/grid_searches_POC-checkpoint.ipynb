{
 "cells": [
  {
   "cell_type": "markdown",
   "id": "c9e0524e",
   "metadata": {},
   "source": [
    "## Comparision of various methods to find the best parameters for training the SARIMA model for a given time series"
   ]
  },
  {
   "cell_type": "code",
   "execution_count": 1,
   "id": "212f5efb",
   "metadata": {},
   "outputs": [],
   "source": [
    "import pandas as pd\n",
    "import numpy as np\n",
    "\n",
    "from itertools import product\n",
    "from statsmodels.tsa.statespace.sarimax import SARIMAX\n",
    "from statsmodels.tsa.stattools import acf, pacf\n",
    "from pmdarima import auto_arima\n"
   ]
  },
  {
   "cell_type": "code",
   "execution_count": 2,
   "id": "53b4e022",
   "metadata": {},
   "outputs": [],
   "source": [
    "# Based on acf and pacf values\n",
    "\n",
    "def find_best_sarima_params(data, max_p, max_d, max_q, max_P, max_D, max_Q, seasonal_periods_range):\n",
    "    \"\"\"\n",
    "    Find the best SARIMA parameters using ACF and PACF analysis.\n",
    "\n",
    "    Parameters:\n",
    "    - data: Time series data as a pandas DataFrame or Series.\n",
    "    - max_p, max_d, max_q: Maximum orders for non-seasonal components.\n",
    "    - max_P, max_D, max_Q: Maximum orders for seasonal components.\n",
    "    - seasonal_periods_range: Range of possible seasonal periods.\n",
    "\n",
    "    Returns:\n",
    "    - Best SARIMA parameters as a tuple (p, d, q, P, D, Q, s).\n",
    "    \"\"\"\n",
    "\n",
    "    # Plot ACF and PACF\n",
    "    # plot_acf(data, lags=30, title='ACF')\n",
    "    # plot_pacf(data, lags=30, title='PACF')\n",
    "\n",
    "    # Identify potential orders from ACF and PACF\n",
    "    acf_values = acf(data, nlags=max_p)\n",
    "    pacf_values = pacf(data, nlags=max_q)\n",
    "\n",
    "    # Find the order with the highest absolute value in ACF and PACF\n",
    "    p = np.argmax(np.abs(acf_values[1:])) + 1\n",
    "    q = np.argmax(np.abs(pacf_values[1:])) + 1\n",
    "\n",
    "    # Assuming d = D = 1 for simplicity (adjust as needed)\n",
    "    d = D = 1\n",
    "\n",
    "    # Find the best seasonal order\n",
    "    best_sarima_params = None\n",
    "    best_aic = float('inf')\n",
    "\n",
    "    for s in seasonal_periods_range:\n",
    "        seasonal_acf_values = acf(data.diff(s).dropna(), nlags=max_P)\n",
    "        seasonal_pacf_values = pacf(data.diff(s).dropna(), nlags=max_Q)\n",
    "        P = np.argmax(np.abs(seasonal_acf_values[1:])) + 1\n",
    "        Q = np.argmax(np.abs(seasonal_pacf_values[1:])) + 1\n",
    "\n",
    "        try:\n",
    "            model = SARIMAX(data, order=(p, d, q), seasonal_order=(P, D, Q, s))\n",
    "            results = model.fit(maxiter=100)\n",
    "            current_aic = results.aic\n",
    "\n",
    "            if current_aic < best_aic:\n",
    "                best_aic = current_aic\n",
    "                best_sarima_params = (p, d, q, P, D, Q, s)\n",
    "\n",
    "        except Exception as e:\n",
    "            # Handle any exceptions that may occur during model fitting\n",
    "            print(f\"Error fitting SARIMA model with parameters ({p}, {d}, {q}, {P}, {D}, {Q}, {s}): {str(e)}\")\n",
    "\n",
    "    return best_sarima_params\n",
    "\n",
    "\n",
    "# best_params = find_best_sarima_params(your_data, max_p=3, max_d=1, max_q=3, max_P=3, max_D=1, max_Q=3, seasonal_periods_range=seasonal_periods_range)\n",
    "# print(f\"Best SARIMA Model Parameters: {best_params}\")"
   ]
  },
  {
   "cell_type": "code",
   "execution_count": 3,
   "id": "b3a754f4",
   "metadata": {},
   "outputs": [],
   "source": [
    "import numpy as np\n",
    "import pandas as pd\n",
    "from itertools import product\n",
    "from statsmodels.tsa.statespace.sarimax import SARIMAX\n",
    "\n",
    "def grid_search_sarima(ts, p_range, d_range, q_range, seasonal_p_range, seasonal_d_range, seasonal_q_range, seasonal_period):\n",
    "    best_aic = float(\"inf\")\n",
    "    best_params = None\n",
    "\n",
    "    for (p, d, q, seasonal_p, seasonal_d, seasonal_q) in product(p_range, d_range, q_range, seasonal_p_range, seasonal_d_range, seasonal_q_range):\n",
    "        try:\n",
    "            model = SARIMAX(ts, order=(p, d, q), seasonal_order=(seasonal_p, seasonal_d, seasonal_q, seasonal_period))\n",
    "            results = model.fit(disp=False, maxiter=100)  # Increase maxiter for better convergence\n",
    "            if results.aic < best_aic:\n",
    "                best_aic = results.aic\n",
    "                best_params = (p, d, q, seasonal_p, seasonal_d, seasonal_q, seasonal_period)\n",
    "        except Exception as e:\n",
    "            print(f\"Error fitting SARIMA({p},{d},{q})x({seasonal_p},{seasonal_d},{seasonal_q},{seasonal_period}): {e}\")\n",
    "            continue\n",
    "\n",
    "    return best_params\n",
    "\n",
    "# Sample data generation (replace with your own data)\n",
    "np.random.seed(0)\n",
    "data = np.random.randn(100)\n",
    "dates = pd.date_range(start='2022-01-01', periods=100, freq='D')\n",
    "ts = pd.Series(data, index=dates)\n",
    "\n",
    "# Define parameter ranges\n",
    "p_range = range(0, 3)  # Autoregressive (AR) order\n",
    "d_range = range(0, 2)  # Differencing order\n",
    "q_range = range(0, 3)  # Moving Average (MA) order\n",
    "seasonal_p_range = range(0, 3)  # Seasonal AR order\n",
    "seasonal_d_range = range(0, 2)  # Seasonal differencing order\n",
    "seasonal_q_range = range(0, 3)  # Seasonal MA order\n",
    "seasonal_period = 7  # Seasonal period (e.g., 7 for weekly data)\n",
    "\n"
   ]
  },
  {
   "cell_type": "code",
   "execution_count": null,
   "id": "984510f8",
   "metadata": {},
   "outputs": [],
   "source": []
  },
  {
   "cell_type": "code",
   "execution_count": 4,
   "id": "f55c5ba8",
   "metadata": {},
   "outputs": [],
   "source": [
    "data = pd.read_csv('ts.csv')"
   ]
  },
  {
   "cell_type": "code",
   "execution_count": 5,
   "id": "be239018",
   "metadata": {},
   "outputs": [],
   "source": [
    "data['Date'] = pd.to_datetime(data['Date'])\n",
    "data.index = data.Date\n",
    "data.drop(['Date'],axis=1,inplace=True)\n",
    "data = data.resample('D').sum()"
   ]
  },
  {
   "cell_type": "code",
   "execution_count": 6,
   "id": "580443c6",
   "metadata": {},
   "outputs": [
    {
     "name": "stderr",
     "output_type": "stream",
     "text": [
      "/home/livello33/anaconda3/lib/python3.11/site-packages/statsmodels/base/model.py:607: ConvergenceWarning: Maximum Likelihood optimization failed to converge. Check mle_retvals\n",
      "  warnings.warn(\"Maximum Likelihood optimization failed to \"\n",
      "/home/livello33/anaconda3/lib/python3.11/site-packages/statsmodels/base/model.py:607: ConvergenceWarning: Maximum Likelihood optimization failed to converge. Check mle_retvals\n",
      "  warnings.warn(\"Maximum Likelihood optimization failed to \"\n"
     ]
    },
    {
     "name": "stdout",
     "output_type": "stream",
     "text": [
      "Error fitting SARIMA(0,0,0)x(0,0,1,7): index 1 is out of bounds for axis 0 with size 1\n",
      "Error fitting SARIMA(0,0,0)x(0,0,2,7): index 2 is out of bounds for axis 0 with size 1\n",
      "Error fitting SARIMA(0,0,0)x(0,1,1,7): index 1 is out of bounds for axis 0 with size 1\n",
      "Error fitting SARIMA(0,0,0)x(0,1,2,7): index 2 is out of bounds for axis 0 with size 1\n",
      "Error fitting SARIMA(0,0,0)x(1,0,0,7): index 1 is out of bounds for axis 0 with size 1\n",
      "Error fitting SARIMA(0,0,0)x(1,0,1,7): index 2 is out of bounds for axis 0 with size 1\n",
      "Error fitting SARIMA(0,0,0)x(1,0,2,7): index 3 is out of bounds for axis 0 with size 1\n",
      "Error fitting SARIMA(0,0,0)x(1,1,0,7): index 1 is out of bounds for axis 0 with size 1\n",
      "Error fitting SARIMA(0,0,0)x(1,1,1,7): index 2 is out of bounds for axis 0 with size 1\n",
      "Error fitting SARIMA(0,0,0)x(1,1,2,7): index 3 is out of bounds for axis 0 with size 1\n",
      "Error fitting SARIMA(0,0,0)x(2,0,0,7): index 2 is out of bounds for axis 0 with size 1\n",
      "Error fitting SARIMA(0,0,0)x(2,0,1,7): index 3 is out of bounds for axis 0 with size 1\n",
      "Error fitting SARIMA(0,0,0)x(2,0,2,7): index 4 is out of bounds for axis 0 with size 1\n",
      "Error fitting SARIMA(0,0,0)x(2,1,0,7): index 2 is out of bounds for axis 0 with size 1\n",
      "Error fitting SARIMA(0,0,0)x(2,1,1,7): index 3 is out of bounds for axis 0 with size 1\n",
      "Error fitting SARIMA(0,0,0)x(2,1,2,7): index 4 is out of bounds for axis 0 with size 1\n"
     ]
    },
    {
     "name": "stderr",
     "output_type": "stream",
     "text": [
      "/home/livello33/anaconda3/lib/python3.11/site-packages/statsmodels/base/model.py:607: ConvergenceWarning: Maximum Likelihood optimization failed to converge. Check mle_retvals\n",
      "  warnings.warn(\"Maximum Likelihood optimization failed to \"\n",
      "/home/livello33/anaconda3/lib/python3.11/site-packages/statsmodels/base/model.py:607: ConvergenceWarning: Maximum Likelihood optimization failed to converge. Check mle_retvals\n",
      "  warnings.warn(\"Maximum Likelihood optimization failed to \"\n"
     ]
    },
    {
     "name": "stdout",
     "output_type": "stream",
     "text": [
      "Error fitting SARIMA(0,0,1)x(0,0,1,7): index 2 is out of bounds for axis 0 with size 2\n",
      "Error fitting SARIMA(0,0,1)x(0,0,2,7): index 3 is out of bounds for axis 0 with size 2\n",
      "Error fitting SARIMA(0,0,1)x(0,1,1,7): index 2 is out of bounds for axis 0 with size 2\n",
      "Error fitting SARIMA(0,0,1)x(0,1,2,7): index 3 is out of bounds for axis 0 with size 2\n",
      "Error fitting SARIMA(0,0,1)x(1,0,0,7): index 2 is out of bounds for axis 0 with size 2\n",
      "Error fitting SARIMA(0,0,1)x(1,0,1,7): index 3 is out of bounds for axis 0 with size 2\n",
      "Error fitting SARIMA(0,0,1)x(1,0,2,7): index 4 is out of bounds for axis 0 with size 2\n",
      "Error fitting SARIMA(0,0,1)x(1,1,0,7): index 2 is out of bounds for axis 0 with size 2\n",
      "Error fitting SARIMA(0,0,1)x(1,1,1,7): index 3 is out of bounds for axis 0 with size 2\n",
      "Error fitting SARIMA(0,0,1)x(1,1,2,7): index 4 is out of bounds for axis 0 with size 2\n",
      "Error fitting SARIMA(0,0,1)x(2,0,0,7): index 3 is out of bounds for axis 0 with size 2\n",
      "Error fitting SARIMA(0,0,1)x(2,0,1,7): index 4 is out of bounds for axis 0 with size 2\n",
      "Error fitting SARIMA(0,0,1)x(2,0,2,7): index 5 is out of bounds for axis 0 with size 2\n",
      "Error fitting SARIMA(0,0,1)x(2,1,0,7): index 3 is out of bounds for axis 0 with size 2\n",
      "Error fitting SARIMA(0,0,1)x(2,1,1,7): index 4 is out of bounds for axis 0 with size 2\n",
      "Error fitting SARIMA(0,0,1)x(2,1,2,7): index 5 is out of bounds for axis 0 with size 2\n"
     ]
    },
    {
     "name": "stderr",
     "output_type": "stream",
     "text": [
      "/home/livello33/anaconda3/lib/python3.11/site-packages/statsmodels/base/model.py:607: ConvergenceWarning: Maximum Likelihood optimization failed to converge. Check mle_retvals\n",
      "  warnings.warn(\"Maximum Likelihood optimization failed to \"\n"
     ]
    },
    {
     "name": "stdout",
     "output_type": "stream",
     "text": [
      "Error fitting SARIMA(0,0,2)x(0,0,1,7): index 3 is out of bounds for axis 0 with size 3\n",
      "Error fitting SARIMA(0,0,2)x(0,0,2,7): index 4 is out of bounds for axis 0 with size 3\n"
     ]
    },
    {
     "name": "stderr",
     "output_type": "stream",
     "text": [
      "/home/livello33/anaconda3/lib/python3.11/site-packages/statsmodels/base/model.py:607: ConvergenceWarning: Maximum Likelihood optimization failed to converge. Check mle_retvals\n",
      "  warnings.warn(\"Maximum Likelihood optimization failed to \"\n",
      "/home/livello33/anaconda3/lib/python3.11/site-packages/statsmodels/base/model.py:607: ConvergenceWarning: Maximum Likelihood optimization failed to converge. Check mle_retvals\n",
      "  warnings.warn(\"Maximum Likelihood optimization failed to \"\n"
     ]
    },
    {
     "name": "stdout",
     "output_type": "stream",
     "text": [
      "Error fitting SARIMA(0,0,2)x(0,1,1,7): index 3 is out of bounds for axis 0 with size 3\n",
      "Error fitting SARIMA(0,0,2)x(0,1,2,7): index 4 is out of bounds for axis 0 with size 3\n",
      "Error fitting SARIMA(0,0,2)x(1,0,0,7): index 3 is out of bounds for axis 0 with size 3\n",
      "Error fitting SARIMA(0,0,2)x(1,0,1,7): index 4 is out of bounds for axis 0 with size 3\n",
      "Error fitting SARIMA(0,0,2)x(1,0,2,7): index 5 is out of bounds for axis 0 with size 3\n",
      "Error fitting SARIMA(0,0,2)x(1,1,0,7): index 3 is out of bounds for axis 0 with size 3\n",
      "Error fitting SARIMA(0,0,2)x(1,1,1,7): index 4 is out of bounds for axis 0 with size 3\n",
      "Error fitting SARIMA(0,0,2)x(1,1,2,7): index 5 is out of bounds for axis 0 with size 3\n",
      "Error fitting SARIMA(0,0,2)x(2,0,0,7): index 4 is out of bounds for axis 0 with size 3\n",
      "Error fitting SARIMA(0,0,2)x(2,0,1,7): index 5 is out of bounds for axis 0 with size 3\n",
      "Error fitting SARIMA(0,0,2)x(2,0,2,7): index 6 is out of bounds for axis 0 with size 3\n",
      "Error fitting SARIMA(0,0,2)x(2,1,0,7): index 4 is out of bounds for axis 0 with size 3\n",
      "Error fitting SARIMA(0,0,2)x(2,1,1,7): index 5 is out of bounds for axis 0 with size 3\n",
      "Error fitting SARIMA(0,0,2)x(2,1,2,7): index 6 is out of bounds for axis 0 with size 3\n",
      "Error fitting SARIMA(0,1,0)x(0,0,1,7): index 1 is out of bounds for axis 0 with size 1\n",
      "Error fitting SARIMA(0,1,0)x(0,0,2,7): index 2 is out of bounds for axis 0 with size 1\n"
     ]
    },
    {
     "name": "stderr",
     "output_type": "stream",
     "text": [
      "/home/livello33/anaconda3/lib/python3.11/site-packages/statsmodels/base/model.py:607: ConvergenceWarning: Maximum Likelihood optimization failed to converge. Check mle_retvals\n",
      "  warnings.warn(\"Maximum Likelihood optimization failed to \"\n",
      "/home/livello33/anaconda3/lib/python3.11/site-packages/statsmodels/base/model.py:607: ConvergenceWarning: Maximum Likelihood optimization failed to converge. Check mle_retvals\n",
      "  warnings.warn(\"Maximum Likelihood optimization failed to \"\n"
     ]
    },
    {
     "name": "stdout",
     "output_type": "stream",
     "text": [
      "Error fitting SARIMA(0,1,0)x(0,1,1,7): index 1 is out of bounds for axis 0 with size 1\n",
      "Error fitting SARIMA(0,1,0)x(0,1,2,7): index 2 is out of bounds for axis 0 with size 1\n",
      "Error fitting SARIMA(0,1,0)x(1,0,0,7): index 1 is out of bounds for axis 0 with size 1\n",
      "Error fitting SARIMA(0,1,0)x(1,0,1,7): index 2 is out of bounds for axis 0 with size 1\n",
      "Error fitting SARIMA(0,1,0)x(1,0,2,7): index 3 is out of bounds for axis 0 with size 1\n",
      "Error fitting SARIMA(0,1,0)x(1,1,0,7): index 1 is out of bounds for axis 0 with size 1\n",
      "Error fitting SARIMA(0,1,0)x(1,1,1,7): index 2 is out of bounds for axis 0 with size 1\n",
      "Error fitting SARIMA(0,1,0)x(1,1,2,7): index 3 is out of bounds for axis 0 with size 1\n",
      "Error fitting SARIMA(0,1,0)x(2,0,0,7): index 2 is out of bounds for axis 0 with size 1\n",
      "Error fitting SARIMA(0,1,0)x(2,0,1,7): index 3 is out of bounds for axis 0 with size 1\n",
      "Error fitting SARIMA(0,1,0)x(2,0,2,7): index 4 is out of bounds for axis 0 with size 1\n",
      "Error fitting SARIMA(0,1,0)x(2,1,0,7): index 2 is out of bounds for axis 0 with size 1\n",
      "Error fitting SARIMA(0,1,0)x(2,1,1,7): index 3 is out of bounds for axis 0 with size 1\n",
      "Error fitting SARIMA(0,1,0)x(2,1,2,7): index 4 is out of bounds for axis 0 with size 1\n",
      "Error fitting SARIMA(0,1,1)x(0,0,1,7): index 2 is out of bounds for axis 0 with size 2\n",
      "Error fitting SARIMA(0,1,1)x(0,0,2,7): index 3 is out of bounds for axis 0 with size 2\n"
     ]
    },
    {
     "name": "stderr",
     "output_type": "stream",
     "text": [
      "/home/livello33/anaconda3/lib/python3.11/site-packages/statsmodels/base/model.py:607: ConvergenceWarning: Maximum Likelihood optimization failed to converge. Check mle_retvals\n",
      "  warnings.warn(\"Maximum Likelihood optimization failed to \"\n"
     ]
    },
    {
     "name": "stdout",
     "output_type": "stream",
     "text": [
      "Error fitting SARIMA(0,1,1)x(0,1,1,7): index 2 is out of bounds for axis 0 with size 2\n",
      "Error fitting SARIMA(0,1,1)x(0,1,2,7): index 3 is out of bounds for axis 0 with size 2\n",
      "Error fitting SARIMA(0,1,1)x(1,0,0,7): index 2 is out of bounds for axis 0 with size 2\n",
      "Error fitting SARIMA(0,1,1)x(1,0,1,7): index 3 is out of bounds for axis 0 with size 2\n",
      "Error fitting SARIMA(0,1,1)x(1,0,2,7): index 4 is out of bounds for axis 0 with size 2\n",
      "Error fitting SARIMA(0,1,1)x(1,1,0,7): index 2 is out of bounds for axis 0 with size 2\n",
      "Error fitting SARIMA(0,1,1)x(1,1,1,7): index 3 is out of bounds for axis 0 with size 2\n",
      "Error fitting SARIMA(0,1,1)x(1,1,2,7): index 4 is out of bounds for axis 0 with size 2\n",
      "Error fitting SARIMA(0,1,1)x(2,0,0,7): index 3 is out of bounds for axis 0 with size 2\n",
      "Error fitting SARIMA(0,1,1)x(2,0,1,7): index 4 is out of bounds for axis 0 with size 2\n",
      "Error fitting SARIMA(0,1,1)x(2,0,2,7): index 5 is out of bounds for axis 0 with size 2\n",
      "Error fitting SARIMA(0,1,1)x(2,1,0,7): index 3 is out of bounds for axis 0 with size 2\n",
      "Error fitting SARIMA(0,1,1)x(2,1,1,7): index 4 is out of bounds for axis 0 with size 2\n",
      "Error fitting SARIMA(0,1,1)x(2,1,2,7): index 5 is out of bounds for axis 0 with size 2\n"
     ]
    },
    {
     "name": "stderr",
     "output_type": "stream",
     "text": [
      "/home/livello33/anaconda3/lib/python3.11/site-packages/statsmodels/base/model.py:607: ConvergenceWarning: Maximum Likelihood optimization failed to converge. Check mle_retvals\n",
      "  warnings.warn(\"Maximum Likelihood optimization failed to \"\n"
     ]
    },
    {
     "name": "stdout",
     "output_type": "stream",
     "text": [
      "Error fitting SARIMA(0,1,2)x(0,0,1,7): index 3 is out of bounds for axis 0 with size 3\n",
      "Error fitting SARIMA(0,1,2)x(0,0,2,7): index 4 is out of bounds for axis 0 with size 3\n"
     ]
    },
    {
     "name": "stderr",
     "output_type": "stream",
     "text": [
      "/home/livello33/anaconda3/lib/python3.11/site-packages/statsmodels/base/model.py:607: ConvergenceWarning: Maximum Likelihood optimization failed to converge. Check mle_retvals\n",
      "  warnings.warn(\"Maximum Likelihood optimization failed to \"\n",
      "/home/livello33/anaconda3/lib/python3.11/site-packages/statsmodels/base/model.py:607: ConvergenceWarning: Maximum Likelihood optimization failed to converge. Check mle_retvals\n",
      "  warnings.warn(\"Maximum Likelihood optimization failed to \"\n"
     ]
    },
    {
     "name": "stdout",
     "output_type": "stream",
     "text": [
      "Error fitting SARIMA(0,1,2)x(0,1,1,7): index 3 is out of bounds for axis 0 with size 3\n",
      "Error fitting SARIMA(0,1,2)x(0,1,2,7): index 4 is out of bounds for axis 0 with size 3\n",
      "Error fitting SARIMA(0,1,2)x(1,0,0,7): index 3 is out of bounds for axis 0 with size 3\n",
      "Error fitting SARIMA(0,1,2)x(1,0,1,7): index 4 is out of bounds for axis 0 with size 3\n",
      "Error fitting SARIMA(0,1,2)x(1,0,2,7): index 5 is out of bounds for axis 0 with size 3\n",
      "Error fitting SARIMA(0,1,2)x(1,1,0,7): index 3 is out of bounds for axis 0 with size 3\n",
      "Error fitting SARIMA(0,1,2)x(1,1,1,7): index 4 is out of bounds for axis 0 with size 3\n",
      "Error fitting SARIMA(0,1,2)x(1,1,2,7): index 5 is out of bounds for axis 0 with size 3\n",
      "Error fitting SARIMA(0,1,2)x(2,0,0,7): index 4 is out of bounds for axis 0 with size 3\n",
      "Error fitting SARIMA(0,1,2)x(2,0,1,7): index 5 is out of bounds for axis 0 with size 3\n",
      "Error fitting SARIMA(0,1,2)x(2,0,2,7): index 6 is out of bounds for axis 0 with size 3\n",
      "Error fitting SARIMA(0,1,2)x(2,1,0,7): index 4 is out of bounds for axis 0 with size 3\n",
      "Error fitting SARIMA(0,1,2)x(2,1,1,7): index 5 is out of bounds for axis 0 with size 3\n",
      "Error fitting SARIMA(0,1,2)x(2,1,2,7): index 6 is out of bounds for axis 0 with size 3\n",
      "Error fitting SARIMA(1,0,0)x(0,0,1,7): index 2 is out of bounds for axis 0 with size 2\n",
      "Error fitting SARIMA(1,0,0)x(0,0,2,7): index 3 is out of bounds for axis 0 with size 2\n"
     ]
    },
    {
     "name": "stderr",
     "output_type": "stream",
     "text": [
      "/home/livello33/anaconda3/lib/python3.11/site-packages/statsmodels/base/model.py:607: ConvergenceWarning: Maximum Likelihood optimization failed to converge. Check mle_retvals\n",
      "  warnings.warn(\"Maximum Likelihood optimization failed to \"\n",
      "/home/livello33/anaconda3/lib/python3.11/site-packages/statsmodels/base/model.py:607: ConvergenceWarning: Maximum Likelihood optimization failed to converge. Check mle_retvals\n",
      "  warnings.warn(\"Maximum Likelihood optimization failed to \"\n"
     ]
    },
    {
     "name": "stdout",
     "output_type": "stream",
     "text": [
      "Error fitting SARIMA(1,0,0)x(0,1,1,7): index 2 is out of bounds for axis 0 with size 2\n",
      "Error fitting SARIMA(1,0,0)x(0,1,2,7): index 3 is out of bounds for axis 0 with size 2\n",
      "Error fitting SARIMA(1,0,0)x(1,0,0,7): index 2 is out of bounds for axis 0 with size 2\n",
      "Error fitting SARIMA(1,0,0)x(1,0,1,7): index 3 is out of bounds for axis 0 with size 2\n",
      "Error fitting SARIMA(1,0,0)x(1,0,2,7): index 4 is out of bounds for axis 0 with size 2\n",
      "Error fitting SARIMA(1,0,0)x(1,1,0,7): index 2 is out of bounds for axis 0 with size 2\n",
      "Error fitting SARIMA(1,0,0)x(1,1,1,7): index 3 is out of bounds for axis 0 with size 2\n",
      "Error fitting SARIMA(1,0,0)x(1,1,2,7): index 4 is out of bounds for axis 0 with size 2\n",
      "Error fitting SARIMA(1,0,0)x(2,0,0,7): index 3 is out of bounds for axis 0 with size 2\n",
      "Error fitting SARIMA(1,0,0)x(2,0,1,7): index 4 is out of bounds for axis 0 with size 2\n",
      "Error fitting SARIMA(1,0,0)x(2,0,2,7): index 5 is out of bounds for axis 0 with size 2\n",
      "Error fitting SARIMA(1,0,0)x(2,1,0,7): index 3 is out of bounds for axis 0 with size 2\n",
      "Error fitting SARIMA(1,0,0)x(2,1,1,7): index 4 is out of bounds for axis 0 with size 2\n",
      "Error fitting SARIMA(1,0,0)x(2,1,2,7): index 5 is out of bounds for axis 0 with size 2\n",
      "Error fitting SARIMA(1,0,1)x(0,0,1,7): index 3 is out of bounds for axis 0 with size 3\n",
      "Error fitting SARIMA(1,0,1)x(0,0,2,7): index 4 is out of bounds for axis 0 with size 3\n"
     ]
    },
    {
     "name": "stderr",
     "output_type": "stream",
     "text": [
      "/home/livello33/anaconda3/lib/python3.11/site-packages/statsmodels/base/model.py:607: ConvergenceWarning: Maximum Likelihood optimization failed to converge. Check mle_retvals\n",
      "  warnings.warn(\"Maximum Likelihood optimization failed to \"\n"
     ]
    },
    {
     "name": "stdout",
     "output_type": "stream",
     "text": [
      "Error fitting SARIMA(1,0,1)x(0,1,1,7): index 3 is out of bounds for axis 0 with size 3\n",
      "Error fitting SARIMA(1,0,1)x(0,1,2,7): index 4 is out of bounds for axis 0 with size 3\n",
      "Error fitting SARIMA(1,0,1)x(1,0,0,7): index 3 is out of bounds for axis 0 with size 3\n",
      "Error fitting SARIMA(1,0,1)x(1,0,1,7): index 4 is out of bounds for axis 0 with size 3\n",
      "Error fitting SARIMA(1,0,1)x(1,0,2,7): index 5 is out of bounds for axis 0 with size 3\n",
      "Error fitting SARIMA(1,0,1)x(1,1,0,7): index 3 is out of bounds for axis 0 with size 3\n",
      "Error fitting SARIMA(1,0,1)x(1,1,1,7): index 4 is out of bounds for axis 0 with size 3\n",
      "Error fitting SARIMA(1,0,1)x(1,1,2,7): index 5 is out of bounds for axis 0 with size 3\n",
      "Error fitting SARIMA(1,0,1)x(2,0,0,7): index 4 is out of bounds for axis 0 with size 3\n",
      "Error fitting SARIMA(1,0,1)x(2,0,1,7): index 5 is out of bounds for axis 0 with size 3\n",
      "Error fitting SARIMA(1,0,1)x(2,0,2,7): index 6 is out of bounds for axis 0 with size 3\n",
      "Error fitting SARIMA(1,0,1)x(2,1,0,7): index 4 is out of bounds for axis 0 with size 3\n",
      "Error fitting SARIMA(1,0,1)x(2,1,1,7): index 5 is out of bounds for axis 0 with size 3\n",
      "Error fitting SARIMA(1,0,1)x(2,1,2,7): index 6 is out of bounds for axis 0 with size 3\n"
     ]
    },
    {
     "name": "stderr",
     "output_type": "stream",
     "text": [
      "/home/livello33/anaconda3/lib/python3.11/site-packages/statsmodels/base/model.py:607: ConvergenceWarning: Maximum Likelihood optimization failed to converge. Check mle_retvals\n",
      "  warnings.warn(\"Maximum Likelihood optimization failed to \"\n"
     ]
    },
    {
     "name": "stdout",
     "output_type": "stream",
     "text": [
      "Error fitting SARIMA(1,0,2)x(0,0,1,7): index 4 is out of bounds for axis 0 with size 4\n",
      "Error fitting SARIMA(1,0,2)x(0,0,2,7): index 5 is out of bounds for axis 0 with size 4\n"
     ]
    },
    {
     "name": "stderr",
     "output_type": "stream",
     "text": [
      "/home/livello33/anaconda3/lib/python3.11/site-packages/statsmodels/base/model.py:607: ConvergenceWarning: Maximum Likelihood optimization failed to converge. Check mle_retvals\n",
      "  warnings.warn(\"Maximum Likelihood optimization failed to \"\n",
      "/home/livello33/anaconda3/lib/python3.11/site-packages/statsmodels/base/model.py:607: ConvergenceWarning: Maximum Likelihood optimization failed to converge. Check mle_retvals\n",
      "  warnings.warn(\"Maximum Likelihood optimization failed to \"\n"
     ]
    },
    {
     "name": "stdout",
     "output_type": "stream",
     "text": [
      "Error fitting SARIMA(1,0,2)x(0,1,1,7): index 4 is out of bounds for axis 0 with size 4\n",
      "Error fitting SARIMA(1,0,2)x(0,1,2,7): index 5 is out of bounds for axis 0 with size 4\n",
      "Error fitting SARIMA(1,0,2)x(1,0,0,7): index 4 is out of bounds for axis 0 with size 4\n",
      "Error fitting SARIMA(1,0,2)x(1,0,1,7): index 5 is out of bounds for axis 0 with size 4\n",
      "Error fitting SARIMA(1,0,2)x(1,0,2,7): index 6 is out of bounds for axis 0 with size 4\n",
      "Error fitting SARIMA(1,0,2)x(1,1,0,7): index 4 is out of bounds for axis 0 with size 4\n",
      "Error fitting SARIMA(1,0,2)x(1,1,1,7): index 5 is out of bounds for axis 0 with size 4\n",
      "Error fitting SARIMA(1,0,2)x(1,1,2,7): index 6 is out of bounds for axis 0 with size 4\n",
      "Error fitting SARIMA(1,0,2)x(2,0,0,7): index 5 is out of bounds for axis 0 with size 4\n",
      "Error fitting SARIMA(1,0,2)x(2,0,1,7): index 6 is out of bounds for axis 0 with size 4\n",
      "Error fitting SARIMA(1,0,2)x(2,0,2,7): index 7 is out of bounds for axis 0 with size 4\n",
      "Error fitting SARIMA(1,0,2)x(2,1,0,7): index 5 is out of bounds for axis 0 with size 4\n",
      "Error fitting SARIMA(1,0,2)x(2,1,1,7): index 6 is out of bounds for axis 0 with size 4\n",
      "Error fitting SARIMA(1,0,2)x(2,1,2,7): index 7 is out of bounds for axis 0 with size 4\n",
      "Error fitting SARIMA(1,1,0)x(0,0,1,7): index 2 is out of bounds for axis 0 with size 2\n",
      "Error fitting SARIMA(1,1,0)x(0,0,2,7): index 3 is out of bounds for axis 0 with size 2\n"
     ]
    },
    {
     "name": "stderr",
     "output_type": "stream",
     "text": [
      "/home/livello33/anaconda3/lib/python3.11/site-packages/statsmodels/base/model.py:607: ConvergenceWarning: Maximum Likelihood optimization failed to converge. Check mle_retvals\n",
      "  warnings.warn(\"Maximum Likelihood optimization failed to \"\n"
     ]
    },
    {
     "name": "stdout",
     "output_type": "stream",
     "text": [
      "Error fitting SARIMA(1,1,0)x(0,1,1,7): index 2 is out of bounds for axis 0 with size 2\n",
      "Error fitting SARIMA(1,1,0)x(0,1,2,7): index 3 is out of bounds for axis 0 with size 2\n",
      "Error fitting SARIMA(1,1,0)x(1,0,0,7): index 2 is out of bounds for axis 0 with size 2\n",
      "Error fitting SARIMA(1,1,0)x(1,0,1,7): index 3 is out of bounds for axis 0 with size 2\n",
      "Error fitting SARIMA(1,1,0)x(1,0,2,7): index 4 is out of bounds for axis 0 with size 2\n",
      "Error fitting SARIMA(1,1,0)x(1,1,0,7): index 2 is out of bounds for axis 0 with size 2\n",
      "Error fitting SARIMA(1,1,0)x(1,1,1,7): index 3 is out of bounds for axis 0 with size 2\n",
      "Error fitting SARIMA(1,1,0)x(1,1,2,7): index 4 is out of bounds for axis 0 with size 2\n",
      "Error fitting SARIMA(1,1,0)x(2,0,0,7): index 3 is out of bounds for axis 0 with size 2\n",
      "Error fitting SARIMA(1,1,0)x(2,0,1,7): index 4 is out of bounds for axis 0 with size 2\n",
      "Error fitting SARIMA(1,1,0)x(2,0,2,7): index 5 is out of bounds for axis 0 with size 2\n",
      "Error fitting SARIMA(1,1,0)x(2,1,0,7): index 3 is out of bounds for axis 0 with size 2\n",
      "Error fitting SARIMA(1,1,0)x(2,1,1,7): index 4 is out of bounds for axis 0 with size 2\n",
      "Error fitting SARIMA(1,1,0)x(2,1,2,7): index 5 is out of bounds for axis 0 with size 2\n"
     ]
    },
    {
     "name": "stderr",
     "output_type": "stream",
     "text": [
      "/home/livello33/anaconda3/lib/python3.11/site-packages/statsmodels/base/model.py:607: ConvergenceWarning: Maximum Likelihood optimization failed to converge. Check mle_retvals\n",
      "  warnings.warn(\"Maximum Likelihood optimization failed to \"\n"
     ]
    },
    {
     "name": "stdout",
     "output_type": "stream",
     "text": [
      "Error fitting SARIMA(1,1,1)x(0,0,1,7): index 3 is out of bounds for axis 0 with size 3\n",
      "Error fitting SARIMA(1,1,1)x(0,0,2,7): index 4 is out of bounds for axis 0 with size 3\n"
     ]
    },
    {
     "name": "stderr",
     "output_type": "stream",
     "text": [
      "/home/livello33/anaconda3/lib/python3.11/site-packages/statsmodels/base/model.py:607: ConvergenceWarning: Maximum Likelihood optimization failed to converge. Check mle_retvals\n",
      "  warnings.warn(\"Maximum Likelihood optimization failed to \"\n"
     ]
    },
    {
     "name": "stdout",
     "output_type": "stream",
     "text": [
      "Error fitting SARIMA(1,1,1)x(0,1,1,7): index 3 is out of bounds for axis 0 with size 3\n",
      "Error fitting SARIMA(1,1,1)x(0,1,2,7): index 4 is out of bounds for axis 0 with size 3\n",
      "Error fitting SARIMA(1,1,1)x(1,0,0,7): index 3 is out of bounds for axis 0 with size 3\n",
      "Error fitting SARIMA(1,1,1)x(1,0,1,7): index 4 is out of bounds for axis 0 with size 3\n",
      "Error fitting SARIMA(1,1,1)x(1,0,2,7): index 5 is out of bounds for axis 0 with size 3\n",
      "Error fitting SARIMA(1,1,1)x(1,1,0,7): index 3 is out of bounds for axis 0 with size 3\n",
      "Error fitting SARIMA(1,1,1)x(1,1,1,7): index 4 is out of bounds for axis 0 with size 3\n",
      "Error fitting SARIMA(1,1,1)x(1,1,2,7): index 5 is out of bounds for axis 0 with size 3\n",
      "Error fitting SARIMA(1,1,1)x(2,0,0,7): index 4 is out of bounds for axis 0 with size 3\n",
      "Error fitting SARIMA(1,1,1)x(2,0,1,7): index 5 is out of bounds for axis 0 with size 3\n",
      "Error fitting SARIMA(1,1,1)x(2,0,2,7): index 6 is out of bounds for axis 0 with size 3\n",
      "Error fitting SARIMA(1,1,1)x(2,1,0,7): index 4 is out of bounds for axis 0 with size 3\n",
      "Error fitting SARIMA(1,1,1)x(2,1,1,7): index 5 is out of bounds for axis 0 with size 3\n",
      "Error fitting SARIMA(1,1,1)x(2,1,2,7): index 6 is out of bounds for axis 0 with size 3\n"
     ]
    },
    {
     "name": "stderr",
     "output_type": "stream",
     "text": [
      "/home/livello33/anaconda3/lib/python3.11/site-packages/statsmodels/base/model.py:607: ConvergenceWarning: Maximum Likelihood optimization failed to converge. Check mle_retvals\n",
      "  warnings.warn(\"Maximum Likelihood optimization failed to \"\n"
     ]
    },
    {
     "name": "stdout",
     "output_type": "stream",
     "text": [
      "Error fitting SARIMA(1,1,2)x(0,0,1,7): index 4 is out of bounds for axis 0 with size 4\n",
      "Error fitting SARIMA(1,1,2)x(0,0,2,7): index 5 is out of bounds for axis 0 with size 4\n"
     ]
    },
    {
     "name": "stderr",
     "output_type": "stream",
     "text": [
      "/home/livello33/anaconda3/lib/python3.11/site-packages/statsmodels/base/model.py:607: ConvergenceWarning: Maximum Likelihood optimization failed to converge. Check mle_retvals\n",
      "  warnings.warn(\"Maximum Likelihood optimization failed to \"\n"
     ]
    },
    {
     "name": "stdout",
     "output_type": "stream",
     "text": [
      "Error fitting SARIMA(1,1,2)x(0,1,1,7): index 4 is out of bounds for axis 0 with size 4\n",
      "Error fitting SARIMA(1,1,2)x(0,1,2,7): index 5 is out of bounds for axis 0 with size 4\n",
      "Error fitting SARIMA(1,1,2)x(1,0,0,7): index 4 is out of bounds for axis 0 with size 4\n",
      "Error fitting SARIMA(1,1,2)x(1,0,1,7): index 5 is out of bounds for axis 0 with size 4\n",
      "Error fitting SARIMA(1,1,2)x(1,0,2,7): index 6 is out of bounds for axis 0 with size 4\n",
      "Error fitting SARIMA(1,1,2)x(1,1,0,7): index 4 is out of bounds for axis 0 with size 4\n",
      "Error fitting SARIMA(1,1,2)x(1,1,1,7): index 5 is out of bounds for axis 0 with size 4\n",
      "Error fitting SARIMA(1,1,2)x(1,1,2,7): index 6 is out of bounds for axis 0 with size 4\n",
      "Error fitting SARIMA(1,1,2)x(2,0,0,7): index 5 is out of bounds for axis 0 with size 4\n",
      "Error fitting SARIMA(1,1,2)x(2,0,1,7): index 6 is out of bounds for axis 0 with size 4\n",
      "Error fitting SARIMA(1,1,2)x(2,0,2,7): index 7 is out of bounds for axis 0 with size 4\n",
      "Error fitting SARIMA(1,1,2)x(2,1,0,7): index 5 is out of bounds for axis 0 with size 4\n",
      "Error fitting SARIMA(1,1,2)x(2,1,1,7): index 6 is out of bounds for axis 0 with size 4\n",
      "Error fitting SARIMA(1,1,2)x(2,1,2,7): index 7 is out of bounds for axis 0 with size 4\n",
      "Error fitting SARIMA(2,0,0)x(0,0,1,7): index 3 is out of bounds for axis 0 with size 3\n",
      "Error fitting SARIMA(2,0,0)x(0,0,2,7): index 4 is out of bounds for axis 0 with size 3\n"
     ]
    },
    {
     "name": "stderr",
     "output_type": "stream",
     "text": [
      "/home/livello33/anaconda3/lib/python3.11/site-packages/statsmodels/base/model.py:607: ConvergenceWarning: Maximum Likelihood optimization failed to converge. Check mle_retvals\n",
      "  warnings.warn(\"Maximum Likelihood optimization failed to \"\n",
      "/home/livello33/anaconda3/lib/python3.11/site-packages/statsmodels/base/model.py:607: ConvergenceWarning: Maximum Likelihood optimization failed to converge. Check mle_retvals\n",
      "  warnings.warn(\"Maximum Likelihood optimization failed to \"\n"
     ]
    },
    {
     "name": "stdout",
     "output_type": "stream",
     "text": [
      "Error fitting SARIMA(2,0,0)x(0,1,1,7): index 3 is out of bounds for axis 0 with size 3\n",
      "Error fitting SARIMA(2,0,0)x(0,1,2,7): index 4 is out of bounds for axis 0 with size 3\n",
      "Error fitting SARIMA(2,0,0)x(1,0,0,7): index 3 is out of bounds for axis 0 with size 3\n",
      "Error fitting SARIMA(2,0,0)x(1,0,1,7): index 4 is out of bounds for axis 0 with size 3\n",
      "Error fitting SARIMA(2,0,0)x(1,0,2,7): index 5 is out of bounds for axis 0 with size 3\n",
      "Error fitting SARIMA(2,0,0)x(1,1,0,7): index 3 is out of bounds for axis 0 with size 3\n",
      "Error fitting SARIMA(2,0,0)x(1,1,1,7): index 4 is out of bounds for axis 0 with size 3\n",
      "Error fitting SARIMA(2,0,0)x(1,1,2,7): index 5 is out of bounds for axis 0 with size 3\n",
      "Error fitting SARIMA(2,0,0)x(2,0,0,7): index 4 is out of bounds for axis 0 with size 3\n",
      "Error fitting SARIMA(2,0,0)x(2,0,1,7): index 5 is out of bounds for axis 0 with size 3\n",
      "Error fitting SARIMA(2,0,0)x(2,0,2,7): index 6 is out of bounds for axis 0 with size 3\n",
      "Error fitting SARIMA(2,0,0)x(2,1,0,7): index 4 is out of bounds for axis 0 with size 3\n",
      "Error fitting SARIMA(2,0,0)x(2,1,1,7): index 5 is out of bounds for axis 0 with size 3\n",
      "Error fitting SARIMA(2,0,0)x(2,1,2,7): index 6 is out of bounds for axis 0 with size 3\n"
     ]
    },
    {
     "name": "stderr",
     "output_type": "stream",
     "text": [
      "/home/livello33/anaconda3/lib/python3.11/site-packages/statsmodels/base/model.py:607: ConvergenceWarning: Maximum Likelihood optimization failed to converge. Check mle_retvals\n",
      "  warnings.warn(\"Maximum Likelihood optimization failed to \"\n"
     ]
    },
    {
     "name": "stdout",
     "output_type": "stream",
     "text": [
      "Error fitting SARIMA(2,0,1)x(0,0,1,7): index 4 is out of bounds for axis 0 with size 4\n",
      "Error fitting SARIMA(2,0,1)x(0,0,2,7): index 5 is out of bounds for axis 0 with size 4\n"
     ]
    },
    {
     "name": "stderr",
     "output_type": "stream",
     "text": [
      "/home/livello33/anaconda3/lib/python3.11/site-packages/statsmodels/base/model.py:607: ConvergenceWarning: Maximum Likelihood optimization failed to converge. Check mle_retvals\n",
      "  warnings.warn(\"Maximum Likelihood optimization failed to \"\n"
     ]
    },
    {
     "name": "stdout",
     "output_type": "stream",
     "text": [
      "Error fitting SARIMA(2,0,1)x(0,1,1,7): index 4 is out of bounds for axis 0 with size 4\n",
      "Error fitting SARIMA(2,0,1)x(0,1,2,7): index 5 is out of bounds for axis 0 with size 4\n",
      "Error fitting SARIMA(2,0,1)x(1,0,0,7): index 4 is out of bounds for axis 0 with size 4\n",
      "Error fitting SARIMA(2,0,1)x(1,0,1,7): index 5 is out of bounds for axis 0 with size 4\n",
      "Error fitting SARIMA(2,0,1)x(1,0,2,7): index 6 is out of bounds for axis 0 with size 4\n",
      "Error fitting SARIMA(2,0,1)x(1,1,0,7): index 4 is out of bounds for axis 0 with size 4\n",
      "Error fitting SARIMA(2,0,1)x(1,1,1,7): index 5 is out of bounds for axis 0 with size 4\n",
      "Error fitting SARIMA(2,0,1)x(1,1,2,7): index 6 is out of bounds for axis 0 with size 4\n",
      "Error fitting SARIMA(2,0,1)x(2,0,0,7): index 5 is out of bounds for axis 0 with size 4\n",
      "Error fitting SARIMA(2,0,1)x(2,0,1,7): index 6 is out of bounds for axis 0 with size 4\n",
      "Error fitting SARIMA(2,0,1)x(2,0,2,7): index 7 is out of bounds for axis 0 with size 4\n",
      "Error fitting SARIMA(2,0,1)x(2,1,0,7): index 5 is out of bounds for axis 0 with size 4\n",
      "Error fitting SARIMA(2,0,1)x(2,1,1,7): index 6 is out of bounds for axis 0 with size 4\n",
      "Error fitting SARIMA(2,0,1)x(2,1,2,7): index 7 is out of bounds for axis 0 with size 4\n"
     ]
    },
    {
     "name": "stderr",
     "output_type": "stream",
     "text": [
      "/home/livello33/anaconda3/lib/python3.11/site-packages/statsmodels/base/model.py:607: ConvergenceWarning: Maximum Likelihood optimization failed to converge. Check mle_retvals\n",
      "  warnings.warn(\"Maximum Likelihood optimization failed to \"\n"
     ]
    },
    {
     "name": "stdout",
     "output_type": "stream",
     "text": [
      "Error fitting SARIMA(2,0,2)x(0,0,1,7): index 5 is out of bounds for axis 0 with size 5\n",
      "Error fitting SARIMA(2,0,2)x(0,0,2,7): index 6 is out of bounds for axis 0 with size 5\n"
     ]
    },
    {
     "name": "stderr",
     "output_type": "stream",
     "text": [
      "/home/livello33/anaconda3/lib/python3.11/site-packages/statsmodels/base/model.py:607: ConvergenceWarning: Maximum Likelihood optimization failed to converge. Check mle_retvals\n",
      "  warnings.warn(\"Maximum Likelihood optimization failed to \"\n"
     ]
    },
    {
     "name": "stdout",
     "output_type": "stream",
     "text": [
      "Error fitting SARIMA(2,0,2)x(0,1,1,7): index 5 is out of bounds for axis 0 with size 5\n",
      "Error fitting SARIMA(2,0,2)x(0,1,2,7): index 6 is out of bounds for axis 0 with size 5\n",
      "Error fitting SARIMA(2,0,2)x(1,0,0,7): index 5 is out of bounds for axis 0 with size 5\n",
      "Error fitting SARIMA(2,0,2)x(1,0,1,7): index 6 is out of bounds for axis 0 with size 5\n",
      "Error fitting SARIMA(2,0,2)x(1,0,2,7): index 7 is out of bounds for axis 0 with size 5\n",
      "Error fitting SARIMA(2,0,2)x(1,1,0,7): index 5 is out of bounds for axis 0 with size 5\n",
      "Error fitting SARIMA(2,0,2)x(1,1,1,7): index 6 is out of bounds for axis 0 with size 5\n",
      "Error fitting SARIMA(2,0,2)x(1,1,2,7): index 7 is out of bounds for axis 0 with size 5\n",
      "Error fitting SARIMA(2,0,2)x(2,0,0,7): index 6 is out of bounds for axis 0 with size 5\n",
      "Error fitting SARIMA(2,0,2)x(2,0,1,7): index 7 is out of bounds for axis 0 with size 5\n",
      "Error fitting SARIMA(2,0,2)x(2,0,2,7): index 8 is out of bounds for axis 0 with size 5\n",
      "Error fitting SARIMA(2,0,2)x(2,1,0,7): index 6 is out of bounds for axis 0 with size 5\n",
      "Error fitting SARIMA(2,0,2)x(2,1,1,7): index 7 is out of bounds for axis 0 with size 5\n",
      "Error fitting SARIMA(2,0,2)x(2,1,2,7): index 8 is out of bounds for axis 0 with size 5\n"
     ]
    },
    {
     "name": "stderr",
     "output_type": "stream",
     "text": [
      "/home/livello33/anaconda3/lib/python3.11/site-packages/statsmodels/base/model.py:607: ConvergenceWarning: Maximum Likelihood optimization failed to converge. Check mle_retvals\n",
      "  warnings.warn(\"Maximum Likelihood optimization failed to \"\n"
     ]
    },
    {
     "name": "stdout",
     "output_type": "stream",
     "text": [
      "Error fitting SARIMA(2,1,0)x(0,0,1,7): index 3 is out of bounds for axis 0 with size 3\n",
      "Error fitting SARIMA(2,1,0)x(0,0,2,7): index 4 is out of bounds for axis 0 with size 3\n"
     ]
    },
    {
     "name": "stderr",
     "output_type": "stream",
     "text": [
      "/home/livello33/anaconda3/lib/python3.11/site-packages/statsmodels/base/model.py:607: ConvergenceWarning: Maximum Likelihood optimization failed to converge. Check mle_retvals\n",
      "  warnings.warn(\"Maximum Likelihood optimization failed to \"\n"
     ]
    },
    {
     "name": "stdout",
     "output_type": "stream",
     "text": [
      "Error fitting SARIMA(2,1,0)x(0,1,1,7): index 3 is out of bounds for axis 0 with size 3\n",
      "Error fitting SARIMA(2,1,0)x(0,1,2,7): index 4 is out of bounds for axis 0 with size 3\n",
      "Error fitting SARIMA(2,1,0)x(1,0,0,7): index 3 is out of bounds for axis 0 with size 3\n",
      "Error fitting SARIMA(2,1,0)x(1,0,1,7): index 4 is out of bounds for axis 0 with size 3\n",
      "Error fitting SARIMA(2,1,0)x(1,0,2,7): index 5 is out of bounds for axis 0 with size 3\n",
      "Error fitting SARIMA(2,1,0)x(1,1,0,7): index 3 is out of bounds for axis 0 with size 3\n",
      "Error fitting SARIMA(2,1,0)x(1,1,1,7): index 4 is out of bounds for axis 0 with size 3\n",
      "Error fitting SARIMA(2,1,0)x(1,1,2,7): index 5 is out of bounds for axis 0 with size 3\n",
      "Error fitting SARIMA(2,1,0)x(2,0,0,7): index 4 is out of bounds for axis 0 with size 3\n",
      "Error fitting SARIMA(2,1,0)x(2,0,1,7): index 5 is out of bounds for axis 0 with size 3\n",
      "Error fitting SARIMA(2,1,0)x(2,0,2,7): index 6 is out of bounds for axis 0 with size 3\n",
      "Error fitting SARIMA(2,1,0)x(2,1,0,7): index 4 is out of bounds for axis 0 with size 3\n",
      "Error fitting SARIMA(2,1,0)x(2,1,1,7): index 5 is out of bounds for axis 0 with size 3\n",
      "Error fitting SARIMA(2,1,0)x(2,1,2,7): index 6 is out of bounds for axis 0 with size 3\n"
     ]
    },
    {
     "name": "stderr",
     "output_type": "stream",
     "text": [
      "/home/livello33/anaconda3/lib/python3.11/site-packages/statsmodels/base/model.py:607: ConvergenceWarning: Maximum Likelihood optimization failed to converge. Check mle_retvals\n",
      "  warnings.warn(\"Maximum Likelihood optimization failed to \"\n"
     ]
    },
    {
     "name": "stdout",
     "output_type": "stream",
     "text": [
      "Error fitting SARIMA(2,1,1)x(0,0,1,7): index 4 is out of bounds for axis 0 with size 4\n",
      "Error fitting SARIMA(2,1,1)x(0,0,2,7): index 5 is out of bounds for axis 0 with size 4\n"
     ]
    },
    {
     "name": "stderr",
     "output_type": "stream",
     "text": [
      "/home/livello33/anaconda3/lib/python3.11/site-packages/statsmodels/base/model.py:607: ConvergenceWarning: Maximum Likelihood optimization failed to converge. Check mle_retvals\n",
      "  warnings.warn(\"Maximum Likelihood optimization failed to \"\n"
     ]
    },
    {
     "name": "stdout",
     "output_type": "stream",
     "text": [
      "Error fitting SARIMA(2,1,1)x(0,1,1,7): index 4 is out of bounds for axis 0 with size 4\n",
      "Error fitting SARIMA(2,1,1)x(0,1,2,7): index 5 is out of bounds for axis 0 with size 4\n",
      "Error fitting SARIMA(2,1,1)x(1,0,0,7): index 4 is out of bounds for axis 0 with size 4\n",
      "Error fitting SARIMA(2,1,1)x(1,0,1,7): index 5 is out of bounds for axis 0 with size 4\n",
      "Error fitting SARIMA(2,1,1)x(1,0,2,7): index 6 is out of bounds for axis 0 with size 4\n",
      "Error fitting SARIMA(2,1,1)x(1,1,0,7): index 4 is out of bounds for axis 0 with size 4\n",
      "Error fitting SARIMA(2,1,1)x(1,1,1,7): index 5 is out of bounds for axis 0 with size 4\n",
      "Error fitting SARIMA(2,1,1)x(1,1,2,7): index 6 is out of bounds for axis 0 with size 4\n",
      "Error fitting SARIMA(2,1,1)x(2,0,0,7): index 5 is out of bounds for axis 0 with size 4\n",
      "Error fitting SARIMA(2,1,1)x(2,0,1,7): index 6 is out of bounds for axis 0 with size 4\n",
      "Error fitting SARIMA(2,1,1)x(2,0,2,7): index 7 is out of bounds for axis 0 with size 4\n",
      "Error fitting SARIMA(2,1,1)x(2,1,0,7): index 5 is out of bounds for axis 0 with size 4\n",
      "Error fitting SARIMA(2,1,1)x(2,1,1,7): index 6 is out of bounds for axis 0 with size 4\n",
      "Error fitting SARIMA(2,1,1)x(2,1,2,7): index 7 is out of bounds for axis 0 with size 4\n"
     ]
    },
    {
     "name": "stderr",
     "output_type": "stream",
     "text": [
      "/home/livello33/anaconda3/lib/python3.11/site-packages/statsmodels/base/model.py:607: ConvergenceWarning: Maximum Likelihood optimization failed to converge. Check mle_retvals\n",
      "  warnings.warn(\"Maximum Likelihood optimization failed to \"\n"
     ]
    },
    {
     "name": "stdout",
     "output_type": "stream",
     "text": [
      "Error fitting SARIMA(2,1,2)x(0,0,1,7): index 5 is out of bounds for axis 0 with size 5\n",
      "Error fitting SARIMA(2,1,2)x(0,0,2,7): index 6 is out of bounds for axis 0 with size 5\n",
      "Error fitting SARIMA(2,1,2)x(0,1,1,7): index 5 is out of bounds for axis 0 with size 5\n",
      "Error fitting SARIMA(2,1,2)x(0,1,2,7): index 6 is out of bounds for axis 0 with size 5\n",
      "Error fitting SARIMA(2,1,2)x(1,0,0,7): index 5 is out of bounds for axis 0 with size 5\n",
      "Error fitting SARIMA(2,1,2)x(1,0,1,7): index 6 is out of bounds for axis 0 with size 5\n",
      "Error fitting SARIMA(2,1,2)x(1,0,2,7): index 7 is out of bounds for axis 0 with size 5\n",
      "Error fitting SARIMA(2,1,2)x(1,1,0,7): index 5 is out of bounds for axis 0 with size 5\n",
      "Error fitting SARIMA(2,1,2)x(1,1,1,7): index 6 is out of bounds for axis 0 with size 5\n",
      "Error fitting SARIMA(2,1,2)x(1,1,2,7): index 7 is out of bounds for axis 0 with size 5\n",
      "Error fitting SARIMA(2,1,2)x(2,0,0,7): index 6 is out of bounds for axis 0 with size 5\n",
      "Error fitting SARIMA(2,1,2)x(2,0,1,7): index 7 is out of bounds for axis 0 with size 5\n",
      "Error fitting SARIMA(2,1,2)x(2,0,2,7): index 8 is out of bounds for axis 0 with size 5\n",
      "Error fitting SARIMA(2,1,2)x(2,1,0,7): index 6 is out of bounds for axis 0 with size 5\n",
      "Error fitting SARIMA(2,1,2)x(2,1,1,7): index 7 is out of bounds for axis 0 with size 5\n",
      "Error fitting SARIMA(2,1,2)x(2,1,2,7): index 8 is out of bounds for axis 0 with size 5\n",
      "Best SARIMA Model Parameters: (0, 0, 0, 0, 0, 0, 7)\n",
      "Execution time for data pipeline updation: 9.994015216827393 seconds\n"
     ]
    },
    {
     "name": "stderr",
     "output_type": "stream",
     "text": [
      "/home/livello33/anaconda3/lib/python3.11/site-packages/statsmodels/base/model.py:607: ConvergenceWarning: Maximum Likelihood optimization failed to converge. Check mle_retvals\n",
      "  warnings.warn(\"Maximum Likelihood optimization failed to \"\n"
     ]
    }
   ],
   "source": [
    "# Grid search via acf and pacf\n",
    "import time\n",
    "start_time = time.time()\n",
    "best_params = grid_search_sarima(data, p_range, d_range, q_range, seasonal_p_range, seasonal_d_range, seasonal_q_range, seasonal_period)\n",
    "print(f\"Best SARIMA Model Parameters: {best_params}\")\n",
    "end_time = time.time()\n",
    "print(f\"Execution time for data pipeline updation: {end_time - start_time} seconds\")"
   ]
  },
  {
   "cell_type": "code",
   "execution_count": 7,
   "id": "dbb60f81",
   "metadata": {},
   "outputs": [
    {
     "name": "stderr",
     "output_type": "stream",
     "text": [
      "/home/livello33/anaconda3/lib/python3.11/site-packages/statsmodels/base/model.py:607: ConvergenceWarning: Maximum Likelihood optimization failed to converge. Check mle_retvals\n",
      "  warnings.warn(\"Maximum Likelihood optimization failed to \"\n"
     ]
    },
    {
     "name": "stdout",
     "output_type": "stream",
     "text": [
      "Error fitting SARIMA(0,0,0)x(0,0,1,7): index 1 is out of bounds for axis 0 with size 1\n",
      "Error fitting SARIMA(0,0,0)x(0,0,2,7): index 2 is out of bounds for axis 0 with size 1\n",
      "Error fitting SARIMA(0,0,0)x(0,1,1,7): index 1 is out of bounds for axis 0 with size 1\n",
      "Error fitting SARIMA(0,0,0)x(0,1,2,7): index 2 is out of bounds for axis 0 with size 1\n"
     ]
    },
    {
     "name": "stderr",
     "output_type": "stream",
     "text": [
      "/home/livello33/anaconda3/lib/python3.11/site-packages/statsmodels/base/model.py:607: ConvergenceWarning: Maximum Likelihood optimization failed to converge. Check mle_retvals\n",
      "  warnings.warn(\"Maximum Likelihood optimization failed to \"\n"
     ]
    },
    {
     "name": "stdout",
     "output_type": "stream",
     "text": [
      "Error fitting SARIMA(0,0,0)x(1,0,0,7): index 1 is out of bounds for axis 0 with size 1\n",
      "Error fitting SARIMA(0,0,0)x(1,0,1,7): index 2 is out of bounds for axis 0 with size 1\n",
      "Error fitting SARIMA(0,0,0)x(1,0,2,7): index 3 is out of bounds for axis 0 with size 1\n",
      "Error fitting SARIMA(0,0,0)x(1,1,0,7): index 1 is out of bounds for axis 0 with size 1\n",
      "Error fitting SARIMA(0,0,0)x(1,1,1,7): index 2 is out of bounds for axis 0 with size 1\n",
      "Error fitting SARIMA(0,0,0)x(1,1,2,7): index 3 is out of bounds for axis 0 with size 1\n",
      "Error fitting SARIMA(0,0,0)x(2,0,0,7): index 2 is out of bounds for axis 0 with size 1\n",
      "Error fitting SARIMA(0,0,0)x(2,0,1,7): index 3 is out of bounds for axis 0 with size 1\n",
      "Error fitting SARIMA(0,0,0)x(2,0,2,7): index 4 is out of bounds for axis 0 with size 1\n",
      "Error fitting SARIMA(0,0,0)x(2,1,0,7): index 2 is out of bounds for axis 0 with size 1\n",
      "Error fitting SARIMA(0,0,0)x(2,1,1,7): index 3 is out of bounds for axis 0 with size 1\n",
      "Error fitting SARIMA(0,0,0)x(2,1,2,7): index 4 is out of bounds for axis 0 with size 1\n"
     ]
    },
    {
     "name": "stderr",
     "output_type": "stream",
     "text": [
      "/home/livello33/anaconda3/lib/python3.11/site-packages/statsmodels/base/model.py:607: ConvergenceWarning: Maximum Likelihood optimization failed to converge. Check mle_retvals\n",
      "  warnings.warn(\"Maximum Likelihood optimization failed to \"\n"
     ]
    },
    {
     "name": "stdout",
     "output_type": "stream",
     "text": [
      "Error fitting SARIMA(0,0,1)x(0,0,1,7): index 2 is out of bounds for axis 0 with size 2\n",
      "Error fitting SARIMA(0,0,1)x(0,0,2,7): index 3 is out of bounds for axis 0 with size 2\n"
     ]
    },
    {
     "name": "stderr",
     "output_type": "stream",
     "text": [
      "/home/livello33/anaconda3/lib/python3.11/site-packages/statsmodels/base/model.py:607: ConvergenceWarning: Maximum Likelihood optimization failed to converge. Check mle_retvals\n",
      "  warnings.warn(\"Maximum Likelihood optimization failed to \"\n"
     ]
    },
    {
     "name": "stdout",
     "output_type": "stream",
     "text": [
      "Error fitting SARIMA(0,0,1)x(0,1,1,7): index 2 is out of bounds for axis 0 with size 2\n",
      "Error fitting SARIMA(0,0,1)x(0,1,2,7): index 3 is out of bounds for axis 0 with size 2\n",
      "Error fitting SARIMA(0,0,1)x(1,0,0,7): index 2 is out of bounds for axis 0 with size 2\n",
      "Error fitting SARIMA(0,0,1)x(1,0,1,7): index 3 is out of bounds for axis 0 with size 2\n",
      "Error fitting SARIMA(0,0,1)x(1,0,2,7): index 4 is out of bounds for axis 0 with size 2\n",
      "Error fitting SARIMA(0,0,1)x(1,1,0,7): index 2 is out of bounds for axis 0 with size 2\n",
      "Error fitting SARIMA(0,0,1)x(1,1,1,7): index 3 is out of bounds for axis 0 with size 2\n",
      "Error fitting SARIMA(0,0,1)x(1,1,2,7): index 4 is out of bounds for axis 0 with size 2\n",
      "Error fitting SARIMA(0,0,1)x(2,0,0,7): index 3 is out of bounds for axis 0 with size 2\n",
      "Error fitting SARIMA(0,0,1)x(2,0,1,7): index 4 is out of bounds for axis 0 with size 2\n",
      "Error fitting SARIMA(0,0,1)x(2,0,2,7): index 5 is out of bounds for axis 0 with size 2\n",
      "Error fitting SARIMA(0,0,1)x(2,1,0,7): index 3 is out of bounds for axis 0 with size 2\n",
      "Error fitting SARIMA(0,0,1)x(2,1,1,7): index 4 is out of bounds for axis 0 with size 2\n",
      "Error fitting SARIMA(0,0,1)x(2,1,2,7): index 5 is out of bounds for axis 0 with size 2\n"
     ]
    },
    {
     "name": "stderr",
     "output_type": "stream",
     "text": [
      "/home/livello33/anaconda3/lib/python3.11/site-packages/statsmodels/base/model.py:607: ConvergenceWarning: Maximum Likelihood optimization failed to converge. Check mle_retvals\n",
      "  warnings.warn(\"Maximum Likelihood optimization failed to \"\n"
     ]
    },
    {
     "name": "stdout",
     "output_type": "stream",
     "text": [
      "Error fitting SARIMA(0,0,2)x(0,0,1,7): index 3 is out of bounds for axis 0 with size 3\n",
      "Error fitting SARIMA(0,0,2)x(0,0,2,7): index 4 is out of bounds for axis 0 with size 3\n"
     ]
    },
    {
     "name": "stderr",
     "output_type": "stream",
     "text": [
      "/home/livello33/anaconda3/lib/python3.11/site-packages/statsmodels/base/model.py:607: ConvergenceWarning: Maximum Likelihood optimization failed to converge. Check mle_retvals\n",
      "  warnings.warn(\"Maximum Likelihood optimization failed to \"\n",
      "/home/livello33/anaconda3/lib/python3.11/site-packages/statsmodels/base/model.py:607: ConvergenceWarning: Maximum Likelihood optimization failed to converge. Check mle_retvals\n",
      "  warnings.warn(\"Maximum Likelihood optimization failed to \"\n"
     ]
    },
    {
     "name": "stdout",
     "output_type": "stream",
     "text": [
      "Error fitting SARIMA(0,0,2)x(0,1,1,7): index 3 is out of bounds for axis 0 with size 3\n",
      "Error fitting SARIMA(0,0,2)x(0,1,2,7): index 4 is out of bounds for axis 0 with size 3\n",
      "Error fitting SARIMA(0,0,2)x(1,0,0,7): index 3 is out of bounds for axis 0 with size 3\n",
      "Error fitting SARIMA(0,0,2)x(1,0,1,7): index 4 is out of bounds for axis 0 with size 3\n",
      "Error fitting SARIMA(0,0,2)x(1,0,2,7): index 5 is out of bounds for axis 0 with size 3\n",
      "Error fitting SARIMA(0,0,2)x(1,1,0,7): index 3 is out of bounds for axis 0 with size 3\n",
      "Error fitting SARIMA(0,0,2)x(1,1,1,7): index 4 is out of bounds for axis 0 with size 3\n",
      "Error fitting SARIMA(0,0,2)x(1,1,2,7): index 5 is out of bounds for axis 0 with size 3\n",
      "Error fitting SARIMA(0,0,2)x(2,0,0,7): index 4 is out of bounds for axis 0 with size 3\n",
      "Error fitting SARIMA(0,0,2)x(2,0,1,7): index 5 is out of bounds for axis 0 with size 3\n",
      "Error fitting SARIMA(0,0,2)x(2,0,2,7): index 6 is out of bounds for axis 0 with size 3\n",
      "Error fitting SARIMA(0,0,2)x(2,1,0,7): index 4 is out of bounds for axis 0 with size 3\n",
      "Error fitting SARIMA(0,0,2)x(2,1,1,7): index 5 is out of bounds for axis 0 with size 3\n",
      "Error fitting SARIMA(0,0,2)x(2,1,2,7): index 6 is out of bounds for axis 0 with size 3\n",
      "Error fitting SARIMA(0,1,0)x(0,0,1,7): index 1 is out of bounds for axis 0 with size 1\n",
      "Error fitting SARIMA(0,1,0)x(0,0,2,7): index 2 is out of bounds for axis 0 with size 1\n"
     ]
    },
    {
     "name": "stderr",
     "output_type": "stream",
     "text": [
      "/home/livello33/anaconda3/lib/python3.11/site-packages/statsmodels/base/model.py:607: ConvergenceWarning: Maximum Likelihood optimization failed to converge. Check mle_retvals\n",
      "  warnings.warn(\"Maximum Likelihood optimization failed to \"\n",
      "/home/livello33/anaconda3/lib/python3.11/site-packages/statsmodels/base/model.py:607: ConvergenceWarning: Maximum Likelihood optimization failed to converge. Check mle_retvals\n",
      "  warnings.warn(\"Maximum Likelihood optimization failed to \"\n"
     ]
    },
    {
     "name": "stdout",
     "output_type": "stream",
     "text": [
      "Error fitting SARIMA(0,1,0)x(0,1,1,7): index 1 is out of bounds for axis 0 with size 1\n",
      "Error fitting SARIMA(0,1,0)x(0,1,2,7): index 2 is out of bounds for axis 0 with size 1\n",
      "Error fitting SARIMA(0,1,0)x(1,0,0,7): index 1 is out of bounds for axis 0 with size 1\n",
      "Error fitting SARIMA(0,1,0)x(1,0,1,7): index 2 is out of bounds for axis 0 with size 1\n",
      "Error fitting SARIMA(0,1,0)x(1,0,2,7): index 3 is out of bounds for axis 0 with size 1\n",
      "Error fitting SARIMA(0,1,0)x(1,1,0,7): index 1 is out of bounds for axis 0 with size 1\n",
      "Error fitting SARIMA(0,1,0)x(1,1,1,7): index 2 is out of bounds for axis 0 with size 1\n",
      "Error fitting SARIMA(0,1,0)x(1,1,2,7): index 3 is out of bounds for axis 0 with size 1\n",
      "Error fitting SARIMA(0,1,0)x(2,0,0,7): index 2 is out of bounds for axis 0 with size 1\n",
      "Error fitting SARIMA(0,1,0)x(2,0,1,7): index 3 is out of bounds for axis 0 with size 1\n",
      "Error fitting SARIMA(0,1,0)x(2,0,2,7): index 4 is out of bounds for axis 0 with size 1\n",
      "Error fitting SARIMA(0,1,0)x(2,1,0,7): index 2 is out of bounds for axis 0 with size 1\n",
      "Error fitting SARIMA(0,1,0)x(2,1,1,7): index 3 is out of bounds for axis 0 with size 1\n",
      "Error fitting SARIMA(0,1,0)x(2,1,2,7): index 4 is out of bounds for axis 0 with size 1\n",
      "Error fitting SARIMA(0,1,1)x(0,0,1,7): index 2 is out of bounds for axis 0 with size 2\n",
      "Error fitting SARIMA(0,1,1)x(0,0,2,7): index 3 is out of bounds for axis 0 with size 2\n"
     ]
    },
    {
     "name": "stderr",
     "output_type": "stream",
     "text": [
      "/home/livello33/anaconda3/lib/python3.11/site-packages/statsmodels/base/model.py:607: ConvergenceWarning: Maximum Likelihood optimization failed to converge. Check mle_retvals\n",
      "  warnings.warn(\"Maximum Likelihood optimization failed to \"\n",
      "/home/livello33/anaconda3/lib/python3.11/site-packages/statsmodels/base/model.py:607: ConvergenceWarning: Maximum Likelihood optimization failed to converge. Check mle_retvals\n",
      "  warnings.warn(\"Maximum Likelihood optimization failed to \"\n"
     ]
    },
    {
     "name": "stdout",
     "output_type": "stream",
     "text": [
      "Error fitting SARIMA(0,1,1)x(0,1,1,7): index 2 is out of bounds for axis 0 with size 2\n",
      "Error fitting SARIMA(0,1,1)x(0,1,2,7): index 3 is out of bounds for axis 0 with size 2\n",
      "Error fitting SARIMA(0,1,1)x(1,0,0,7): index 2 is out of bounds for axis 0 with size 2\n",
      "Error fitting SARIMA(0,1,1)x(1,0,1,7): index 3 is out of bounds for axis 0 with size 2\n",
      "Error fitting SARIMA(0,1,1)x(1,0,2,7): index 4 is out of bounds for axis 0 with size 2\n",
      "Error fitting SARIMA(0,1,1)x(1,1,0,7): index 2 is out of bounds for axis 0 with size 2\n",
      "Error fitting SARIMA(0,1,1)x(1,1,1,7): index 3 is out of bounds for axis 0 with size 2\n",
      "Error fitting SARIMA(0,1,1)x(1,1,2,7): index 4 is out of bounds for axis 0 with size 2\n",
      "Error fitting SARIMA(0,1,1)x(2,0,0,7): index 3 is out of bounds for axis 0 with size 2\n",
      "Error fitting SARIMA(0,1,1)x(2,0,1,7): index 4 is out of bounds for axis 0 with size 2\n",
      "Error fitting SARIMA(0,1,1)x(2,0,2,7): index 5 is out of bounds for axis 0 with size 2\n",
      "Error fitting SARIMA(0,1,1)x(2,1,0,7): index 3 is out of bounds for axis 0 with size 2\n",
      "Error fitting SARIMA(0,1,1)x(2,1,1,7): index 4 is out of bounds for axis 0 with size 2\n",
      "Error fitting SARIMA(0,1,1)x(2,1,2,7): index 5 is out of bounds for axis 0 with size 2\n",
      "Error fitting SARIMA(0,1,2)x(0,0,1,7): index 3 is out of bounds for axis 0 with size 3\n",
      "Error fitting SARIMA(0,1,2)x(0,0,2,7): index 4 is out of bounds for axis 0 with size 3\n"
     ]
    },
    {
     "name": "stderr",
     "output_type": "stream",
     "text": [
      "/home/livello33/anaconda3/lib/python3.11/site-packages/statsmodels/base/model.py:607: ConvergenceWarning: Maximum Likelihood optimization failed to converge. Check mle_retvals\n",
      "  warnings.warn(\"Maximum Likelihood optimization failed to \"\n",
      "/home/livello33/anaconda3/lib/python3.11/site-packages/statsmodels/base/model.py:607: ConvergenceWarning: Maximum Likelihood optimization failed to converge. Check mle_retvals\n",
      "  warnings.warn(\"Maximum Likelihood optimization failed to \"\n"
     ]
    },
    {
     "name": "stdout",
     "output_type": "stream",
     "text": [
      "Error fitting SARIMA(0,1,2)x(0,1,1,7): index 3 is out of bounds for axis 0 with size 3\n",
      "Error fitting SARIMA(0,1,2)x(0,1,2,7): index 4 is out of bounds for axis 0 with size 3\n",
      "Error fitting SARIMA(0,1,2)x(1,0,0,7): index 3 is out of bounds for axis 0 with size 3\n",
      "Error fitting SARIMA(0,1,2)x(1,0,1,7): index 4 is out of bounds for axis 0 with size 3\n",
      "Error fitting SARIMA(0,1,2)x(1,0,2,7): index 5 is out of bounds for axis 0 with size 3\n",
      "Error fitting SARIMA(0,1,2)x(1,1,0,7): index 3 is out of bounds for axis 0 with size 3\n",
      "Error fitting SARIMA(0,1,2)x(1,1,1,7): index 4 is out of bounds for axis 0 with size 3\n",
      "Error fitting SARIMA(0,1,2)x(1,1,2,7): index 5 is out of bounds for axis 0 with size 3\n",
      "Error fitting SARIMA(0,1,2)x(2,0,0,7): index 4 is out of bounds for axis 0 with size 3\n",
      "Error fitting SARIMA(0,1,2)x(2,0,1,7): index 5 is out of bounds for axis 0 with size 3\n",
      "Error fitting SARIMA(0,1,2)x(2,0,2,7): index 6 is out of bounds for axis 0 with size 3\n",
      "Error fitting SARIMA(0,1,2)x(2,1,0,7): index 4 is out of bounds for axis 0 with size 3\n",
      "Error fitting SARIMA(0,1,2)x(2,1,1,7): index 5 is out of bounds for axis 0 with size 3\n",
      "Error fitting SARIMA(0,1,2)x(2,1,2,7): index 6 is out of bounds for axis 0 with size 3\n",
      "Error fitting SARIMA(1,0,0)x(0,0,1,7): index 2 is out of bounds for axis 0 with size 2\n",
      "Error fitting SARIMA(1,0,0)x(0,0,2,7): index 3 is out of bounds for axis 0 with size 2\n"
     ]
    },
    {
     "name": "stderr",
     "output_type": "stream",
     "text": [
      "/home/livello33/anaconda3/lib/python3.11/site-packages/statsmodels/base/model.py:607: ConvergenceWarning: Maximum Likelihood optimization failed to converge. Check mle_retvals\n",
      "  warnings.warn(\"Maximum Likelihood optimization failed to \"\n",
      "/home/livello33/anaconda3/lib/python3.11/site-packages/statsmodels/base/model.py:607: ConvergenceWarning: Maximum Likelihood optimization failed to converge. Check mle_retvals\n",
      "  warnings.warn(\"Maximum Likelihood optimization failed to \"\n"
     ]
    },
    {
     "name": "stdout",
     "output_type": "stream",
     "text": [
      "Error fitting SARIMA(1,0,0)x(0,1,1,7): index 2 is out of bounds for axis 0 with size 2\n",
      "Error fitting SARIMA(1,0,0)x(0,1,2,7): index 3 is out of bounds for axis 0 with size 2\n",
      "Error fitting SARIMA(1,0,0)x(1,0,0,7): index 2 is out of bounds for axis 0 with size 2\n",
      "Error fitting SARIMA(1,0,0)x(1,0,1,7): index 3 is out of bounds for axis 0 with size 2\n",
      "Error fitting SARIMA(1,0,0)x(1,0,2,7): index 4 is out of bounds for axis 0 with size 2\n",
      "Error fitting SARIMA(1,0,0)x(1,1,0,7): index 2 is out of bounds for axis 0 with size 2\n",
      "Error fitting SARIMA(1,0,0)x(1,1,1,7): index 3 is out of bounds for axis 0 with size 2\n",
      "Error fitting SARIMA(1,0,0)x(1,1,2,7): index 4 is out of bounds for axis 0 with size 2\n",
      "Error fitting SARIMA(1,0,0)x(2,0,0,7): index 3 is out of bounds for axis 0 with size 2\n",
      "Error fitting SARIMA(1,0,0)x(2,0,1,7): index 4 is out of bounds for axis 0 with size 2\n",
      "Error fitting SARIMA(1,0,0)x(2,0,2,7): index 5 is out of bounds for axis 0 with size 2\n",
      "Error fitting SARIMA(1,0,0)x(2,1,0,7): index 3 is out of bounds for axis 0 with size 2\n",
      "Error fitting SARIMA(1,0,0)x(2,1,1,7): index 4 is out of bounds for axis 0 with size 2\n",
      "Error fitting SARIMA(1,0,0)x(2,1,2,7): index 5 is out of bounds for axis 0 with size 2\n",
      "Error fitting SARIMA(1,0,1)x(0,0,1,7): index 3 is out of bounds for axis 0 with size 3\n",
      "Error fitting SARIMA(1,0,1)x(0,0,2,7): index 4 is out of bounds for axis 0 with size 3\n"
     ]
    },
    {
     "name": "stderr",
     "output_type": "stream",
     "text": [
      "/home/livello33/anaconda3/lib/python3.11/site-packages/statsmodels/base/model.py:607: ConvergenceWarning: Maximum Likelihood optimization failed to converge. Check mle_retvals\n",
      "  warnings.warn(\"Maximum Likelihood optimization failed to \"\n"
     ]
    },
    {
     "name": "stdout",
     "output_type": "stream",
     "text": [
      "Error fitting SARIMA(1,0,1)x(0,1,1,7): index 3 is out of bounds for axis 0 with size 3\n",
      "Error fitting SARIMA(1,0,1)x(0,1,2,7): index 4 is out of bounds for axis 0 with size 3\n",
      "Error fitting SARIMA(1,0,1)x(1,0,0,7): index 3 is out of bounds for axis 0 with size 3\n",
      "Error fitting SARIMA(1,0,1)x(1,0,1,7): index 4 is out of bounds for axis 0 with size 3\n",
      "Error fitting SARIMA(1,0,1)x(1,0,2,7): index 5 is out of bounds for axis 0 with size 3\n",
      "Error fitting SARIMA(1,0,1)x(1,1,0,7): index 3 is out of bounds for axis 0 with size 3\n",
      "Error fitting SARIMA(1,0,1)x(1,1,1,7): index 4 is out of bounds for axis 0 with size 3\n",
      "Error fitting SARIMA(1,0,1)x(1,1,2,7): index 5 is out of bounds for axis 0 with size 3\n",
      "Error fitting SARIMA(1,0,1)x(2,0,0,7): index 4 is out of bounds for axis 0 with size 3\n",
      "Error fitting SARIMA(1,0,1)x(2,0,1,7): index 5 is out of bounds for axis 0 with size 3\n",
      "Error fitting SARIMA(1,0,1)x(2,0,2,7): index 6 is out of bounds for axis 0 with size 3\n",
      "Error fitting SARIMA(1,0,1)x(2,1,0,7): index 4 is out of bounds for axis 0 with size 3\n",
      "Error fitting SARIMA(1,0,1)x(2,1,1,7): index 5 is out of bounds for axis 0 with size 3\n",
      "Error fitting SARIMA(1,0,1)x(2,1,2,7): index 6 is out of bounds for axis 0 with size 3\n"
     ]
    },
    {
     "name": "stderr",
     "output_type": "stream",
     "text": [
      "/home/livello33/anaconda3/lib/python3.11/site-packages/statsmodels/base/model.py:607: ConvergenceWarning: Maximum Likelihood optimization failed to converge. Check mle_retvals\n",
      "  warnings.warn(\"Maximum Likelihood optimization failed to \"\n"
     ]
    },
    {
     "name": "stdout",
     "output_type": "stream",
     "text": [
      "Error fitting SARIMA(1,0,2)x(0,0,1,7): index 4 is out of bounds for axis 0 with size 4\n",
      "Error fitting SARIMA(1,0,2)x(0,0,2,7): index 5 is out of bounds for axis 0 with size 4\n"
     ]
    },
    {
     "name": "stderr",
     "output_type": "stream",
     "text": [
      "/home/livello33/anaconda3/lib/python3.11/site-packages/statsmodels/base/model.py:607: ConvergenceWarning: Maximum Likelihood optimization failed to converge. Check mle_retvals\n",
      "  warnings.warn(\"Maximum Likelihood optimization failed to \"\n",
      "/home/livello33/anaconda3/lib/python3.11/site-packages/statsmodels/base/model.py:607: ConvergenceWarning: Maximum Likelihood optimization failed to converge. Check mle_retvals\n",
      "  warnings.warn(\"Maximum Likelihood optimization failed to \"\n"
     ]
    },
    {
     "name": "stdout",
     "output_type": "stream",
     "text": [
      "Error fitting SARIMA(1,0,2)x(0,1,1,7): index 4 is out of bounds for axis 0 with size 4\n",
      "Error fitting SARIMA(1,0,2)x(0,1,2,7): index 5 is out of bounds for axis 0 with size 4\n",
      "Error fitting SARIMA(1,0,2)x(1,0,0,7): index 4 is out of bounds for axis 0 with size 4\n",
      "Error fitting SARIMA(1,0,2)x(1,0,1,7): index 5 is out of bounds for axis 0 with size 4\n",
      "Error fitting SARIMA(1,0,2)x(1,0,2,7): index 6 is out of bounds for axis 0 with size 4\n",
      "Error fitting SARIMA(1,0,2)x(1,1,0,7): index 4 is out of bounds for axis 0 with size 4\n",
      "Error fitting SARIMA(1,0,2)x(1,1,1,7): index 5 is out of bounds for axis 0 with size 4\n",
      "Error fitting SARIMA(1,0,2)x(1,1,2,7): index 6 is out of bounds for axis 0 with size 4\n",
      "Error fitting SARIMA(1,0,2)x(2,0,0,7): index 5 is out of bounds for axis 0 with size 4\n",
      "Error fitting SARIMA(1,0,2)x(2,0,1,7): index 6 is out of bounds for axis 0 with size 4\n",
      "Error fitting SARIMA(1,0,2)x(2,0,2,7): index 7 is out of bounds for axis 0 with size 4\n",
      "Error fitting SARIMA(1,0,2)x(2,1,0,7): index 5 is out of bounds for axis 0 with size 4\n",
      "Error fitting SARIMA(1,0,2)x(2,1,1,7): index 6 is out of bounds for axis 0 with size 4\n",
      "Error fitting SARIMA(1,0,2)x(2,1,2,7): index 7 is out of bounds for axis 0 with size 4\n",
      "Error fitting SARIMA(1,1,0)x(0,0,1,7): index 2 is out of bounds for axis 0 with size 2\n",
      "Error fitting SARIMA(1,1,0)x(0,0,2,7): index 3 is out of bounds for axis 0 with size 2\n"
     ]
    },
    {
     "name": "stderr",
     "output_type": "stream",
     "text": [
      "/home/livello33/anaconda3/lib/python3.11/site-packages/statsmodels/base/model.py:607: ConvergenceWarning: Maximum Likelihood optimization failed to converge. Check mle_retvals\n",
      "  warnings.warn(\"Maximum Likelihood optimization failed to \"\n",
      "/home/livello33/anaconda3/lib/python3.11/site-packages/statsmodels/base/model.py:607: ConvergenceWarning: Maximum Likelihood optimization failed to converge. Check mle_retvals\n",
      "  warnings.warn(\"Maximum Likelihood optimization failed to \"\n"
     ]
    },
    {
     "name": "stdout",
     "output_type": "stream",
     "text": [
      "Error fitting SARIMA(1,1,0)x(0,1,1,7): index 2 is out of bounds for axis 0 with size 2\n",
      "Error fitting SARIMA(1,1,0)x(0,1,2,7): index 3 is out of bounds for axis 0 with size 2\n",
      "Error fitting SARIMA(1,1,0)x(1,0,0,7): index 2 is out of bounds for axis 0 with size 2\n",
      "Error fitting SARIMA(1,1,0)x(1,0,1,7): index 3 is out of bounds for axis 0 with size 2\n",
      "Error fitting SARIMA(1,1,0)x(1,0,2,7): index 4 is out of bounds for axis 0 with size 2\n",
      "Error fitting SARIMA(1,1,0)x(1,1,0,7): index 2 is out of bounds for axis 0 with size 2\n",
      "Error fitting SARIMA(1,1,0)x(1,1,1,7): index 3 is out of bounds for axis 0 with size 2\n",
      "Error fitting SARIMA(1,1,0)x(1,1,2,7): index 4 is out of bounds for axis 0 with size 2\n",
      "Error fitting SARIMA(1,1,0)x(2,0,0,7): index 3 is out of bounds for axis 0 with size 2\n",
      "Error fitting SARIMA(1,1,0)x(2,0,1,7): index 4 is out of bounds for axis 0 with size 2\n",
      "Error fitting SARIMA(1,1,0)x(2,0,2,7): index 5 is out of bounds for axis 0 with size 2\n",
      "Error fitting SARIMA(1,1,0)x(2,1,0,7): index 3 is out of bounds for axis 0 with size 2\n",
      "Error fitting SARIMA(1,1,0)x(2,1,1,7): index 4 is out of bounds for axis 0 with size 2\n",
      "Error fitting SARIMA(1,1,0)x(2,1,2,7): index 5 is out of bounds for axis 0 with size 2\n",
      "Error fitting SARIMA(1,1,1)x(0,0,1,7): index 3 is out of bounds for axis 0 with size 3\n",
      "Error fitting SARIMA(1,1,1)x(0,0,2,7): index 4 is out of bounds for axis 0 with size 3\n"
     ]
    },
    {
     "name": "stderr",
     "output_type": "stream",
     "text": [
      "/home/livello33/anaconda3/lib/python3.11/site-packages/statsmodels/base/model.py:607: ConvergenceWarning: Maximum Likelihood optimization failed to converge. Check mle_retvals\n",
      "  warnings.warn(\"Maximum Likelihood optimization failed to \"\n"
     ]
    },
    {
     "name": "stdout",
     "output_type": "stream",
     "text": [
      "Error fitting SARIMA(1,1,1)x(0,1,1,7): index 3 is out of bounds for axis 0 with size 3\n",
      "Error fitting SARIMA(1,1,1)x(0,1,2,7): index 4 is out of bounds for axis 0 with size 3\n",
      "Error fitting SARIMA(1,1,1)x(1,0,0,7): index 3 is out of bounds for axis 0 with size 3\n",
      "Error fitting SARIMA(1,1,1)x(1,0,1,7): index 4 is out of bounds for axis 0 with size 3\n",
      "Error fitting SARIMA(1,1,1)x(1,0,2,7): index 5 is out of bounds for axis 0 with size 3\n",
      "Error fitting SARIMA(1,1,1)x(1,1,0,7): index 3 is out of bounds for axis 0 with size 3\n",
      "Error fitting SARIMA(1,1,1)x(1,1,1,7): index 4 is out of bounds for axis 0 with size 3\n",
      "Error fitting SARIMA(1,1,1)x(1,1,2,7): index 5 is out of bounds for axis 0 with size 3\n",
      "Error fitting SARIMA(1,1,1)x(2,0,0,7): index 4 is out of bounds for axis 0 with size 3\n",
      "Error fitting SARIMA(1,1,1)x(2,0,1,7): index 5 is out of bounds for axis 0 with size 3\n",
      "Error fitting SARIMA(1,1,1)x(2,0,2,7): index 6 is out of bounds for axis 0 with size 3\n",
      "Error fitting SARIMA(1,1,1)x(2,1,0,7): index 4 is out of bounds for axis 0 with size 3\n",
      "Error fitting SARIMA(1,1,1)x(2,1,1,7): index 5 is out of bounds for axis 0 with size 3\n",
      "Error fitting SARIMA(1,1,1)x(2,1,2,7): index 6 is out of bounds for axis 0 with size 3\n"
     ]
    },
    {
     "name": "stderr",
     "output_type": "stream",
     "text": [
      "/home/livello33/anaconda3/lib/python3.11/site-packages/statsmodels/base/model.py:607: ConvergenceWarning: Maximum Likelihood optimization failed to converge. Check mle_retvals\n",
      "  warnings.warn(\"Maximum Likelihood optimization failed to \"\n"
     ]
    },
    {
     "name": "stdout",
     "output_type": "stream",
     "text": [
      "Error fitting SARIMA(1,1,2)x(0,0,1,7): index 4 is out of bounds for axis 0 with size 4\n",
      "Error fitting SARIMA(1,1,2)x(0,0,2,7): index 5 is out of bounds for axis 0 with size 4\n"
     ]
    },
    {
     "name": "stderr",
     "output_type": "stream",
     "text": [
      "/home/livello33/anaconda3/lib/python3.11/site-packages/statsmodels/base/model.py:607: ConvergenceWarning: Maximum Likelihood optimization failed to converge. Check mle_retvals\n",
      "  warnings.warn(\"Maximum Likelihood optimization failed to \"\n"
     ]
    },
    {
     "name": "stdout",
     "output_type": "stream",
     "text": [
      "Error fitting SARIMA(1,1,2)x(0,1,1,7): index 4 is out of bounds for axis 0 with size 4\n",
      "Error fitting SARIMA(1,1,2)x(0,1,2,7): index 5 is out of bounds for axis 0 with size 4\n",
      "Error fitting SARIMA(1,1,2)x(1,0,0,7): index 4 is out of bounds for axis 0 with size 4\n",
      "Error fitting SARIMA(1,1,2)x(1,0,1,7): index 5 is out of bounds for axis 0 with size 4\n",
      "Error fitting SARIMA(1,1,2)x(1,0,2,7): index 6 is out of bounds for axis 0 with size 4\n",
      "Error fitting SARIMA(1,1,2)x(1,1,0,7): index 4 is out of bounds for axis 0 with size 4\n",
      "Error fitting SARIMA(1,1,2)x(1,1,1,7): index 5 is out of bounds for axis 0 with size 4\n",
      "Error fitting SARIMA(1,1,2)x(1,1,2,7): index 6 is out of bounds for axis 0 with size 4\n",
      "Error fitting SARIMA(1,1,2)x(2,0,0,7): index 5 is out of bounds for axis 0 with size 4\n",
      "Error fitting SARIMA(1,1,2)x(2,0,1,7): index 6 is out of bounds for axis 0 with size 4\n",
      "Error fitting SARIMA(1,1,2)x(2,0,2,7): index 7 is out of bounds for axis 0 with size 4\n",
      "Error fitting SARIMA(1,1,2)x(2,1,0,7): index 5 is out of bounds for axis 0 with size 4\n",
      "Error fitting SARIMA(1,1,2)x(2,1,1,7): index 6 is out of bounds for axis 0 with size 4\n",
      "Error fitting SARIMA(1,1,2)x(2,1,2,7): index 7 is out of bounds for axis 0 with size 4\n",
      "Error fitting SARIMA(2,0,0)x(0,0,1,7): index 3 is out of bounds for axis 0 with size 3\n",
      "Error fitting SARIMA(2,0,0)x(0,0,2,7): index 4 is out of bounds for axis 0 with size 3\n"
     ]
    },
    {
     "name": "stderr",
     "output_type": "stream",
     "text": [
      "/home/livello33/anaconda3/lib/python3.11/site-packages/statsmodels/base/model.py:607: ConvergenceWarning: Maximum Likelihood optimization failed to converge. Check mle_retvals\n",
      "  warnings.warn(\"Maximum Likelihood optimization failed to \"\n",
      "/home/livello33/anaconda3/lib/python3.11/site-packages/statsmodels/base/model.py:607: ConvergenceWarning: Maximum Likelihood optimization failed to converge. Check mle_retvals\n",
      "  warnings.warn(\"Maximum Likelihood optimization failed to \"\n"
     ]
    },
    {
     "name": "stdout",
     "output_type": "stream",
     "text": [
      "Error fitting SARIMA(2,0,0)x(0,1,1,7): index 3 is out of bounds for axis 0 with size 3\n",
      "Error fitting SARIMA(2,0,0)x(0,1,2,7): index 4 is out of bounds for axis 0 with size 3\n",
      "Error fitting SARIMA(2,0,0)x(1,0,0,7): index 3 is out of bounds for axis 0 with size 3\n",
      "Error fitting SARIMA(2,0,0)x(1,0,1,7): index 4 is out of bounds for axis 0 with size 3\n",
      "Error fitting SARIMA(2,0,0)x(1,0,2,7): index 5 is out of bounds for axis 0 with size 3\n",
      "Error fitting SARIMA(2,0,0)x(1,1,0,7): index 3 is out of bounds for axis 0 with size 3\n",
      "Error fitting SARIMA(2,0,0)x(1,1,1,7): index 4 is out of bounds for axis 0 with size 3\n",
      "Error fitting SARIMA(2,0,0)x(1,1,2,7): index 5 is out of bounds for axis 0 with size 3\n",
      "Error fitting SARIMA(2,0,0)x(2,0,0,7): index 4 is out of bounds for axis 0 with size 3\n",
      "Error fitting SARIMA(2,0,0)x(2,0,1,7): index 5 is out of bounds for axis 0 with size 3\n",
      "Error fitting SARIMA(2,0,0)x(2,0,2,7): index 6 is out of bounds for axis 0 with size 3\n",
      "Error fitting SARIMA(2,0,0)x(2,1,0,7): index 4 is out of bounds for axis 0 with size 3\n",
      "Error fitting SARIMA(2,0,0)x(2,1,1,7): index 5 is out of bounds for axis 0 with size 3\n",
      "Error fitting SARIMA(2,0,0)x(2,1,2,7): index 6 is out of bounds for axis 0 with size 3\n"
     ]
    },
    {
     "name": "stderr",
     "output_type": "stream",
     "text": [
      "/home/livello33/anaconda3/lib/python3.11/site-packages/statsmodels/base/model.py:607: ConvergenceWarning: Maximum Likelihood optimization failed to converge. Check mle_retvals\n",
      "  warnings.warn(\"Maximum Likelihood optimization failed to \"\n"
     ]
    },
    {
     "name": "stdout",
     "output_type": "stream",
     "text": [
      "Error fitting SARIMA(2,0,1)x(0,0,1,7): index 4 is out of bounds for axis 0 with size 4\n",
      "Error fitting SARIMA(2,0,1)x(0,0,2,7): index 5 is out of bounds for axis 0 with size 4\n"
     ]
    },
    {
     "name": "stderr",
     "output_type": "stream",
     "text": [
      "/home/livello33/anaconda3/lib/python3.11/site-packages/statsmodels/base/model.py:607: ConvergenceWarning: Maximum Likelihood optimization failed to converge. Check mle_retvals\n",
      "  warnings.warn(\"Maximum Likelihood optimization failed to \"\n"
     ]
    },
    {
     "name": "stdout",
     "output_type": "stream",
     "text": [
      "Error fitting SARIMA(2,0,1)x(0,1,1,7): index 4 is out of bounds for axis 0 with size 4\n",
      "Error fitting SARIMA(2,0,1)x(0,1,2,7): index 5 is out of bounds for axis 0 with size 4\n",
      "Error fitting SARIMA(2,0,1)x(1,0,0,7): index 4 is out of bounds for axis 0 with size 4\n",
      "Error fitting SARIMA(2,0,1)x(1,0,1,7): index 5 is out of bounds for axis 0 with size 4\n",
      "Error fitting SARIMA(2,0,1)x(1,0,2,7): index 6 is out of bounds for axis 0 with size 4\n",
      "Error fitting SARIMA(2,0,1)x(1,1,0,7): index 4 is out of bounds for axis 0 with size 4\n",
      "Error fitting SARIMA(2,0,1)x(1,1,1,7): index 5 is out of bounds for axis 0 with size 4\n",
      "Error fitting SARIMA(2,0,1)x(1,1,2,7): index 6 is out of bounds for axis 0 with size 4\n",
      "Error fitting SARIMA(2,0,1)x(2,0,0,7): index 5 is out of bounds for axis 0 with size 4\n",
      "Error fitting SARIMA(2,0,1)x(2,0,1,7): index 6 is out of bounds for axis 0 with size 4\n",
      "Error fitting SARIMA(2,0,1)x(2,0,2,7): index 7 is out of bounds for axis 0 with size 4\n",
      "Error fitting SARIMA(2,0,1)x(2,1,0,7): index 5 is out of bounds for axis 0 with size 4\n",
      "Error fitting SARIMA(2,0,1)x(2,1,1,7): index 6 is out of bounds for axis 0 with size 4\n",
      "Error fitting SARIMA(2,0,1)x(2,1,2,7): index 7 is out of bounds for axis 0 with size 4\n"
     ]
    },
    {
     "name": "stderr",
     "output_type": "stream",
     "text": [
      "/home/livello33/anaconda3/lib/python3.11/site-packages/statsmodels/base/model.py:607: ConvergenceWarning: Maximum Likelihood optimization failed to converge. Check mle_retvals\n",
      "  warnings.warn(\"Maximum Likelihood optimization failed to \"\n"
     ]
    },
    {
     "name": "stdout",
     "output_type": "stream",
     "text": [
      "Error fitting SARIMA(2,0,2)x(0,0,1,7): index 5 is out of bounds for axis 0 with size 5\n",
      "Error fitting SARIMA(2,0,2)x(0,0,2,7): index 6 is out of bounds for axis 0 with size 5\n"
     ]
    },
    {
     "name": "stderr",
     "output_type": "stream",
     "text": [
      "/home/livello33/anaconda3/lib/python3.11/site-packages/statsmodels/base/model.py:607: ConvergenceWarning: Maximum Likelihood optimization failed to converge. Check mle_retvals\n",
      "  warnings.warn(\"Maximum Likelihood optimization failed to \"\n"
     ]
    },
    {
     "name": "stdout",
     "output_type": "stream",
     "text": [
      "Error fitting SARIMA(2,0,2)x(0,1,1,7): index 5 is out of bounds for axis 0 with size 5\n",
      "Error fitting SARIMA(2,0,2)x(0,1,2,7): index 6 is out of bounds for axis 0 with size 5\n",
      "Error fitting SARIMA(2,0,2)x(1,0,0,7): index 5 is out of bounds for axis 0 with size 5\n",
      "Error fitting SARIMA(2,0,2)x(1,0,1,7): index 6 is out of bounds for axis 0 with size 5\n",
      "Error fitting SARIMA(2,0,2)x(1,0,2,7): index 7 is out of bounds for axis 0 with size 5\n",
      "Error fitting SARIMA(2,0,2)x(1,1,0,7): index 5 is out of bounds for axis 0 with size 5\n",
      "Error fitting SARIMA(2,0,2)x(1,1,1,7): index 6 is out of bounds for axis 0 with size 5\n",
      "Error fitting SARIMA(2,0,2)x(1,1,2,7): index 7 is out of bounds for axis 0 with size 5\n",
      "Error fitting SARIMA(2,0,2)x(2,0,0,7): index 6 is out of bounds for axis 0 with size 5\n",
      "Error fitting SARIMA(2,0,2)x(2,0,1,7): index 7 is out of bounds for axis 0 with size 5\n",
      "Error fitting SARIMA(2,0,2)x(2,0,2,7): index 8 is out of bounds for axis 0 with size 5\n",
      "Error fitting SARIMA(2,0,2)x(2,1,0,7): index 6 is out of bounds for axis 0 with size 5\n",
      "Error fitting SARIMA(2,0,2)x(2,1,1,7): index 7 is out of bounds for axis 0 with size 5\n",
      "Error fitting SARIMA(2,0,2)x(2,1,2,7): index 8 is out of bounds for axis 0 with size 5\n",
      "Error fitting SARIMA(2,1,0)x(0,0,1,7): index 3 is out of bounds for axis 0 with size 3\n"
     ]
    },
    {
     "name": "stderr",
     "output_type": "stream",
     "text": [
      "/home/livello33/anaconda3/lib/python3.11/site-packages/statsmodels/base/model.py:607: ConvergenceWarning: Maximum Likelihood optimization failed to converge. Check mle_retvals\n",
      "  warnings.warn(\"Maximum Likelihood optimization failed to \"\n"
     ]
    },
    {
     "name": "stdout",
     "output_type": "stream",
     "text": [
      "Error fitting SARIMA(2,1,0)x(0,0,2,7): index 4 is out of bounds for axis 0 with size 3\n"
     ]
    },
    {
     "name": "stderr",
     "output_type": "stream",
     "text": [
      "/home/livello33/anaconda3/lib/python3.11/site-packages/statsmodels/base/model.py:607: ConvergenceWarning: Maximum Likelihood optimization failed to converge. Check mle_retvals\n",
      "  warnings.warn(\"Maximum Likelihood optimization failed to \"\n"
     ]
    },
    {
     "name": "stdout",
     "output_type": "stream",
     "text": [
      "Error fitting SARIMA(2,1,0)x(0,1,1,7): index 3 is out of bounds for axis 0 with size 3\n",
      "Error fitting SARIMA(2,1,0)x(0,1,2,7): index 4 is out of bounds for axis 0 with size 3\n",
      "Error fitting SARIMA(2,1,0)x(1,0,0,7): index 3 is out of bounds for axis 0 with size 3\n",
      "Error fitting SARIMA(2,1,0)x(1,0,1,7): index 4 is out of bounds for axis 0 with size 3\n",
      "Error fitting SARIMA(2,1,0)x(1,0,2,7): index 5 is out of bounds for axis 0 with size 3\n",
      "Error fitting SARIMA(2,1,0)x(1,1,0,7): index 3 is out of bounds for axis 0 with size 3\n",
      "Error fitting SARIMA(2,1,0)x(1,1,1,7): index 4 is out of bounds for axis 0 with size 3\n",
      "Error fitting SARIMA(2,1,0)x(1,1,2,7): index 5 is out of bounds for axis 0 with size 3\n",
      "Error fitting SARIMA(2,1,0)x(2,0,0,7): index 4 is out of bounds for axis 0 with size 3\n",
      "Error fitting SARIMA(2,1,0)x(2,0,1,7): index 5 is out of bounds for axis 0 with size 3\n",
      "Error fitting SARIMA(2,1,0)x(2,0,2,7): index 6 is out of bounds for axis 0 with size 3\n",
      "Error fitting SARIMA(2,1,0)x(2,1,0,7): index 4 is out of bounds for axis 0 with size 3\n",
      "Error fitting SARIMA(2,1,0)x(2,1,1,7): index 5 is out of bounds for axis 0 with size 3\n",
      "Error fitting SARIMA(2,1,0)x(2,1,2,7): index 6 is out of bounds for axis 0 with size 3\n"
     ]
    },
    {
     "name": "stderr",
     "output_type": "stream",
     "text": [
      "/home/livello33/anaconda3/lib/python3.11/site-packages/statsmodels/base/model.py:607: ConvergenceWarning: Maximum Likelihood optimization failed to converge. Check mle_retvals\n",
      "  warnings.warn(\"Maximum Likelihood optimization failed to \"\n"
     ]
    },
    {
     "name": "stdout",
     "output_type": "stream",
     "text": [
      "Error fitting SARIMA(2,1,1)x(0,0,1,7): index 4 is out of bounds for axis 0 with size 4\n",
      "Error fitting SARIMA(2,1,1)x(0,0,2,7): index 5 is out of bounds for axis 0 with size 4\n"
     ]
    },
    {
     "name": "stderr",
     "output_type": "stream",
     "text": [
      "/home/livello33/anaconda3/lib/python3.11/site-packages/statsmodels/base/model.py:607: ConvergenceWarning: Maximum Likelihood optimization failed to converge. Check mle_retvals\n",
      "  warnings.warn(\"Maximum Likelihood optimization failed to \"\n"
     ]
    },
    {
     "name": "stdout",
     "output_type": "stream",
     "text": [
      "Error fitting SARIMA(2,1,1)x(0,1,1,7): index 4 is out of bounds for axis 0 with size 4\n",
      "Error fitting SARIMA(2,1,1)x(0,1,2,7): index 5 is out of bounds for axis 0 with size 4\n",
      "Error fitting SARIMA(2,1,1)x(1,0,0,7): index 4 is out of bounds for axis 0 with size 4\n",
      "Error fitting SARIMA(2,1,1)x(1,0,1,7): index 5 is out of bounds for axis 0 with size 4\n",
      "Error fitting SARIMA(2,1,1)x(1,0,2,7): index 6 is out of bounds for axis 0 with size 4\n",
      "Error fitting SARIMA(2,1,1)x(1,1,0,7): index 4 is out of bounds for axis 0 with size 4\n",
      "Error fitting SARIMA(2,1,1)x(1,1,1,7): index 5 is out of bounds for axis 0 with size 4\n",
      "Error fitting SARIMA(2,1,1)x(1,1,2,7): index 6 is out of bounds for axis 0 with size 4\n",
      "Error fitting SARIMA(2,1,1)x(2,0,0,7): index 5 is out of bounds for axis 0 with size 4\n",
      "Error fitting SARIMA(2,1,1)x(2,0,1,7): index 6 is out of bounds for axis 0 with size 4\n",
      "Error fitting SARIMA(2,1,1)x(2,0,2,7): index 7 is out of bounds for axis 0 with size 4\n",
      "Error fitting SARIMA(2,1,1)x(2,1,0,7): index 5 is out of bounds for axis 0 with size 4\n",
      "Error fitting SARIMA(2,1,1)x(2,1,1,7): index 6 is out of bounds for axis 0 with size 4\n",
      "Error fitting SARIMA(2,1,1)x(2,1,2,7): index 7 is out of bounds for axis 0 with size 4\n"
     ]
    },
    {
     "name": "stderr",
     "output_type": "stream",
     "text": [
      "/home/livello33/anaconda3/lib/python3.11/site-packages/statsmodels/base/model.py:607: ConvergenceWarning: Maximum Likelihood optimization failed to converge. Check mle_retvals\n",
      "  warnings.warn(\"Maximum Likelihood optimization failed to \"\n"
     ]
    },
    {
     "name": "stdout",
     "output_type": "stream",
     "text": [
      "Error fitting SARIMA(2,1,2)x(0,0,1,7): index 5 is out of bounds for axis 0 with size 5\n",
      "Error fitting SARIMA(2,1,2)x(0,0,2,7): index 6 is out of bounds for axis 0 with size 5\n",
      "Error fitting SARIMA(2,1,2)x(0,1,1,7): index 5 is out of bounds for axis 0 with size 5\n",
      "Error fitting SARIMA(2,1,2)x(0,1,2,7): index 6 is out of bounds for axis 0 with size 5\n",
      "Error fitting SARIMA(2,1,2)x(1,0,0,7): index 5 is out of bounds for axis 0 with size 5\n",
      "Error fitting SARIMA(2,1,2)x(1,0,1,7): index 6 is out of bounds for axis 0 with size 5\n",
      "Error fitting SARIMA(2,1,2)x(1,0,2,7): index 7 is out of bounds for axis 0 with size 5\n",
      "Error fitting SARIMA(2,1,2)x(1,1,0,7): index 5 is out of bounds for axis 0 with size 5\n",
      "Error fitting SARIMA(2,1,2)x(1,1,1,7): index 6 is out of bounds for axis 0 with size 5\n",
      "Error fitting SARIMA(2,1,2)x(1,1,2,7): index 7 is out of bounds for axis 0 with size 5\n",
      "Error fitting SARIMA(2,1,2)x(2,0,0,7): index 6 is out of bounds for axis 0 with size 5\n",
      "Error fitting SARIMA(2,1,2)x(2,0,1,7): index 7 is out of bounds for axis 0 with size 5\n",
      "Error fitting SARIMA(2,1,2)x(2,0,2,7): index 8 is out of bounds for axis 0 with size 5\n",
      "Error fitting SARIMA(2,1,2)x(2,1,0,7): index 6 is out of bounds for axis 0 with size 5\n",
      "Error fitting SARIMA(2,1,2)x(2,1,1,7): index 7 is out of bounds for axis 0 with size 5\n",
      "Error fitting SARIMA(2,1,2)x(2,1,2,7): index 8 is out of bounds for axis 0 with size 5\n",
      "Best SARIMA Model Parameters: (0, 0, 0, 0, 0, 0, 7)\n",
      "Execution time for data pipeline updation: 8.75389575958252 seconds\n"
     ]
    },
    {
     "name": "stderr",
     "output_type": "stream",
     "text": [
      "/home/livello33/anaconda3/lib/python3.11/site-packages/statsmodels/base/model.py:607: ConvergenceWarning: Maximum Likelihood optimization failed to converge. Check mle_retvals\n",
      "  warnings.warn(\"Maximum Likelihood optimization failed to \"\n"
     ]
    }
   ],
   "source": [
    "import time\n",
    "start_time = time.time()\n",
    "best_params = grid_search_sarima(data, p_range, d_range, q_range, seasonal_p_range, seasonal_d_range, seasonal_q_range, seasonal_period)\n",
    "print(f\"Best SARIMA Model Parameters: {best_params}\")\n",
    "end_time = time.time()\n",
    "print(f\"Execution time for data pipeline updation: {end_time - start_time} seconds\")"
   ]
  },
  {
   "cell_type": "code",
   "execution_count": 8,
   "id": "6a6b5dbf",
   "metadata": {},
   "outputs": [
    {
     "name": "stdout",
     "output_type": "stream",
     "text": [
      "Performing stepwise search to minimize aic\n",
      " ARIMA(2,1,2)(1,0,1)[7] intercept   : AIC=inf, Time=1.66 sec\n",
      " ARIMA(0,1,0)(0,0,0)[7] intercept   : AIC=11150.113, Time=0.02 sec\n",
      " ARIMA(1,1,0)(1,0,0)[7] intercept   : AIC=10590.160, Time=0.25 sec\n",
      " ARIMA(0,1,1)(0,0,1)[7] intercept   : AIC=10409.531, Time=0.51 sec\n",
      " ARIMA(0,1,0)(0,0,0)[7]             : AIC=11148.119, Time=0.02 sec\n",
      " ARIMA(0,1,1)(0,0,0)[7] intercept   : AIC=10694.950, Time=0.18 sec\n",
      " ARIMA(0,1,1)(1,0,1)[7] intercept   : AIC=9929.697, Time=1.31 sec\n",
      " ARIMA(0,1,1)(1,0,0)[7] intercept   : AIC=inf, Time=0.45 sec\n",
      " ARIMA(0,1,1)(2,0,1)[7] intercept   : AIC=inf, Time=1.40 sec\n",
      " ARIMA(0,1,1)(1,0,2)[7] intercept   : AIC=9929.145, Time=2.75 sec\n",
      " ARIMA(0,1,1)(0,0,2)[7] intercept   : AIC=10307.612, Time=1.00 sec\n",
      " ARIMA(0,1,1)(2,0,2)[7] intercept   : AIC=inf, Time=2.14 sec\n",
      " ARIMA(0,1,0)(1,0,2)[7] intercept   : AIC=10491.839, Time=1.15 sec\n",
      " ARIMA(1,1,1)(1,0,2)[7] intercept   : AIC=9919.039, Time=2.53 sec\n",
      " ARIMA(1,1,1)(0,0,2)[7] intercept   : AIC=inf, Time=0.85 sec\n",
      " ARIMA(1,1,1)(1,0,1)[7] intercept   : AIC=9926.545, Time=1.63 sec\n",
      " ARIMA(1,1,1)(2,0,2)[7] intercept   : AIC=inf, Time=3.61 sec\n",
      " ARIMA(1,1,1)(0,0,1)[7] intercept   : AIC=10376.172, Time=0.76 sec\n",
      " ARIMA(1,1,1)(2,0,1)[7] intercept   : AIC=9918.997, Time=2.45 sec\n",
      " ARIMA(1,1,1)(2,0,0)[7] intercept   : AIC=inf, Time=1.77 sec\n",
      " ARIMA(1,1,1)(1,0,0)[7] intercept   : AIC=inf, Time=0.85 sec\n",
      " ARIMA(1,1,0)(2,0,1)[7] intercept   : AIC=10254.795, Time=0.69 sec\n",
      " ARIMA(2,1,1)(2,0,1)[7] intercept   : AIC=inf, Time=2.66 sec\n",
      " ARIMA(1,1,2)(2,0,1)[7] intercept   : AIC=inf, Time=2.36 sec\n",
      " ARIMA(0,1,0)(2,0,1)[7] intercept   : AIC=10491.467, Time=1.00 sec\n",
      " ARIMA(0,1,2)(2,0,1)[7] intercept   : AIC=inf, Time=1.40 sec\n",
      " ARIMA(2,1,0)(2,0,1)[7] intercept   : AIC=10106.109, Time=1.38 sec\n",
      " ARIMA(2,1,2)(2,0,1)[7] intercept   : AIC=inf, Time=2.78 sec\n",
      " ARIMA(1,1,1)(2,0,1)[7]             : AIC=inf, Time=1.08 sec\n",
      "\n",
      "Best model:  ARIMA(1,1,1)(2,0,1)[7] intercept\n",
      "Total fit time: 40.667 seconds\n",
      "Best SARIMA Model Parameters: (0, 0, 0, 0, 0, 0, 7)\n",
      "Execution time for data pipeline updation: 40.68947696685791 seconds\n",
      "Best SARIMA parameters: (1, 1, 1) (2, 0, 1, 7)\n"
     ]
    }
   ],
   "source": [
    "start_time = time.time()\n",
    "auto_model = auto_arima(data, seasonal=True, m=7, trace=True)\n",
    "print(f\"Best SARIMA Model Parameters: {best_params}\")\n",
    "end_time = time.time()\n",
    "print(f\"Execution time for data pipeline updation: {end_time - start_time} seconds\")\n",
    "\n",
    "print(\"Best SARIMA parameters:\", auto_model.order, auto_model.seasonal_order)"
   ]
  }
 ],
 "metadata": {
  "kernelspec": {
   "display_name": "Python 3 (ipykernel)",
   "language": "python",
   "name": "python3"
  },
  "language_info": {
   "codemirror_mode": {
    "name": "ipython",
    "version": 3
   },
   "file_extension": ".py",
   "mimetype": "text/x-python",
   "name": "python",
   "nbconvert_exporter": "python",
   "pygments_lexer": "ipython3",
   "version": "3.11.4"
  }
 },
 "nbformat": 4,
 "nbformat_minor": 5
}
